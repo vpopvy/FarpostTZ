{
 "cells": [
  {
   "cell_type": "code",
   "execution_count": 2,
   "id": "29403692",
   "metadata": {
    "scrolled": true
   },
   "outputs": [
    {
     "name": "stdout",
     "output_type": "stream",
     "text": [
      "Collecting Levenshtein\n",
      "  Downloading Levenshtein-0.25.0-cp310-cp310-win_amd64.whl (98 kB)\n",
      "     -------------------------------------- 98.4/98.4 kB 402.7 kB/s eta 0:00:00\n",
      "Collecting rapidfuzz<4.0.0,>=3.1.0\n",
      "  Downloading rapidfuzz-3.7.0-cp310-cp310-win_amd64.whl (1.6 MB)\n",
      "     ---------------------------------------- 1.6/1.6 MB 2.4 MB/s eta 0:00:00\n",
      "Installing collected packages: rapidfuzz, Levenshtein\n",
      "Successfully installed Levenshtein-0.25.0 rapidfuzz-3.7.0\n"
     ]
    },
    {
     "name": "stderr",
     "output_type": "stream",
     "text": [
      "WARNING: Ignoring invalid distribution -rotobuf (c:\\users\\vpopv\\udav\\lib\\site-packages)\n",
      "WARNING: Ignoring invalid distribution -rotobuf (c:\\users\\vpopv\\udav\\lib\\site-packages)\n",
      "WARNING: Ignoring invalid distribution -rotobuf (c:\\users\\vpopv\\udav\\lib\\site-packages)\n",
      "WARNING: Ignoring invalid distribution -rotobuf (c:\\users\\vpopv\\udav\\lib\\site-packages)\n",
      "WARNING: Ignoring invalid distribution -rotobuf (c:\\users\\vpopv\\udav\\lib\\site-packages)\n",
      "WARNING: Ignoring invalid distribution -rotobuf (c:\\users\\vpopv\\udav\\lib\\site-packages)\n",
      "WARNING: Ignoring invalid distribution -rotobuf (c:\\users\\vpopv\\udav\\lib\\site-packages)\n",
      "WARNING: Ignoring invalid distribution -rotobuf (c:\\users\\vpopv\\udav\\lib\\site-packages)\n"
     ]
    }
   ],
   "source": [
    "!pip install Levenshtein"
   ]
  },
  {
   "cell_type": "code",
   "execution_count": 4,
   "id": "5a782290",
   "metadata": {},
   "outputs": [],
   "source": [
    "import pandas as pd\n",
    "import numpy as np\n",
    "import pandas as pd\n",
    "import tensorflow as tf\n",
    "from tensorflow.keras.preprocessing.text import Tokenizer\n",
    "from tensorflow.keras.preprocessing.sequence import pad_sequences\n",
    "from tensorflow.keras.layers import Input, Embedding, LSTM, Dense\n",
    "from tensorflow.keras.models import Model\n",
    "import Levenshtein"
   ]
  },
  {
   "cell_type": "code",
   "execution_count": 46,
   "id": "267ac256",
   "metadata": {},
   "outputs": [],
   "source": [
    "with open(\"dict.txt\",'r',encoding=\"UTF-8\") as file:\n",
    "    lines = file.readlines()"
   ]
  },
  {
   "cell_type": "code",
   "execution_count": 47,
   "id": "b9ad1e94",
   "metadata": {},
   "outputs": [],
   "source": [
    "df = pd.DataFrame()"
   ]
  },
  {
   "cell_type": "code",
   "execution_count": 48,
   "id": "975b97f0",
   "metadata": {},
   "outputs": [],
   "source": [
    "lines = [l.strip() for l in lines]"
   ]
  },
  {
   "cell_type": "code",
   "execution_count": 49,
   "id": "5d292501",
   "metadata": {},
   "outputs": [],
   "source": [
    "df[\"right\"] = lines"
   ]
  },
  {
   "cell_type": "code",
   "execution_count": 50,
   "id": "490e7722",
   "metadata": {},
   "outputs": [
    {
     "data": {
      "text/html": [
       "<div>\n",
       "<style scoped>\n",
       "    .dataframe tbody tr th:only-of-type {\n",
       "        vertical-align: middle;\n",
       "    }\n",
       "\n",
       "    .dataframe tbody tr th {\n",
       "        vertical-align: top;\n",
       "    }\n",
       "\n",
       "    .dataframe thead th {\n",
       "        text-align: right;\n",
       "    }\n",
       "</style>\n",
       "<table border=\"1\" class=\"dataframe\">\n",
       "  <thead>\n",
       "    <tr style=\"text-align: right;\">\n",
       "      <th></th>\n",
       "      <th>right</th>\n",
       "    </tr>\n",
       "  </thead>\n",
       "  <tbody>\n",
       "    <tr>\n",
       "      <th>0</th>\n",
       "      <td>абажур</td>\n",
       "    </tr>\n",
       "    <tr>\n",
       "      <th>1</th>\n",
       "      <td>абажурчик</td>\n",
       "    </tr>\n",
       "    <tr>\n",
       "      <th>2</th>\n",
       "      <td>абазин</td>\n",
       "    </tr>\n",
       "    <tr>\n",
       "      <th>3</th>\n",
       "      <td>абазинец</td>\n",
       "    </tr>\n",
       "    <tr>\n",
       "      <th>4</th>\n",
       "      <td>абазинцы</td>\n",
       "    </tr>\n",
       "    <tr>\n",
       "      <th>...</th>\n",
       "      <td>...</td>\n",
       "    </tr>\n",
       "    <tr>\n",
       "      <th>62022</th>\n",
       "      <td>ящерка</td>\n",
       "    </tr>\n",
       "    <tr>\n",
       "      <th>62023</th>\n",
       "      <td>ящерогад</td>\n",
       "    </tr>\n",
       "    <tr>\n",
       "      <th>62024</th>\n",
       "      <td>ящичек</td>\n",
       "    </tr>\n",
       "    <tr>\n",
       "      <th>62025</th>\n",
       "      <td>ящичник</td>\n",
       "    </tr>\n",
       "    <tr>\n",
       "      <th>62026</th>\n",
       "      <td>ящурка</td>\n",
       "    </tr>\n",
       "  </tbody>\n",
       "</table>\n",
       "<p>62027 rows × 1 columns</p>\n",
       "</div>"
      ],
      "text/plain": [
       "           right\n",
       "0         абажур\n",
       "1      абажурчик\n",
       "2         абазин\n",
       "3       абазинец\n",
       "4       абазинцы\n",
       "...          ...\n",
       "62022     ящерка\n",
       "62023   ящерогад\n",
       "62024     ящичек\n",
       "62025    ящичник\n",
       "62026     ящурка\n",
       "\n",
       "[62027 rows x 1 columns]"
      ]
     },
     "execution_count": 50,
     "metadata": {},
     "output_type": "execute_result"
    }
   ],
   "source": [
    "df"
   ]
  },
  {
   "cell_type": "code",
   "execution_count": 51,
   "id": "8082cbd9",
   "metadata": {},
   "outputs": [],
   "source": [
    "import random\n",
    "\n",
    "def make_typo(word):\n",
    "    error_type = random.choice([\"replace\", \"omit\", \"swap\", \"add\"])\n",
    "    typo = \"\"\n",
    "    \n",
    "    if error_type == \"replace\":\n",
    "        index = random.randint(0, len(word)-1)\n",
    "        new_letter = random.choice([chr(i) for i in range(1072, 1104) if chr(i) != word[index]])\n",
    "        typo = word[:index] + new_letter + word[index+1:]\n",
    "    elif error_type == \"omit\":\n",
    "        index = random.randint(0, len(word)-2)\n",
    "        typo = word[:index] + word[index+1:]\n",
    "    elif error_type == \"swap\":\n",
    "        index = random.randint(0, len(word)-2)\n",
    "        typo = word[:index] + word[index+1] + word[index] + word[index+2:]\n",
    "    elif error_type == \"add\":\n",
    "        index = random.randint(0, len(word)-1)\n",
    "        new_letter = random.choice([chr(i) for i in range(1072, 1104)])\n",
    "        typo = word[:index] + new_letter + word[index:]\n",
    "\n",
    "    return typo\n"
   ]
  },
  {
   "cell_type": "code",
   "execution_count": 52,
   "id": "e37c5472",
   "metadata": {},
   "outputs": [],
   "source": [
    "test_df = df.sample(100, replace=False)"
   ]
  },
  {
   "cell_type": "code",
   "execution_count": 53,
   "id": "15e7459a",
   "metadata": {},
   "outputs": [
    {
     "data": {
      "text/html": [
       "<div>\n",
       "<style scoped>\n",
       "    .dataframe tbody tr th:only-of-type {\n",
       "        vertical-align: middle;\n",
       "    }\n",
       "\n",
       "    .dataframe tbody tr th {\n",
       "        vertical-align: top;\n",
       "    }\n",
       "\n",
       "    .dataframe thead th {\n",
       "        text-align: right;\n",
       "    }\n",
       "</style>\n",
       "<table border=\"1\" class=\"dataframe\">\n",
       "  <thead>\n",
       "    <tr style=\"text-align: right;\">\n",
       "      <th></th>\n",
       "      <th>right</th>\n",
       "    </tr>\n",
       "  </thead>\n",
       "  <tbody>\n",
       "    <tr>\n",
       "      <th>43090</th>\n",
       "      <td>равнинность</td>\n",
       "    </tr>\n",
       "    <tr>\n",
       "      <th>57063</th>\n",
       "      <td>французомания</td>\n",
       "    </tr>\n",
       "    <tr>\n",
       "      <th>16388</th>\n",
       "      <td>индюшонок</td>\n",
       "    </tr>\n",
       "    <tr>\n",
       "      <th>33590</th>\n",
       "      <td>папежество</td>\n",
       "    </tr>\n",
       "    <tr>\n",
       "      <th>17163</th>\n",
       "      <td>кавалерия</td>\n",
       "    </tr>\n",
       "    <tr>\n",
       "      <th>...</th>\n",
       "      <td>...</td>\n",
       "    </tr>\n",
       "    <tr>\n",
       "      <th>58094</th>\n",
       "      <td>художница</td>\n",
       "    </tr>\n",
       "    <tr>\n",
       "      <th>16641</th>\n",
       "      <td>интроскопия</td>\n",
       "    </tr>\n",
       "    <tr>\n",
       "      <th>10175</th>\n",
       "      <td>грехопадение</td>\n",
       "    </tr>\n",
       "    <tr>\n",
       "      <th>16686</th>\n",
       "      <td>инфразвук</td>\n",
       "    </tr>\n",
       "    <tr>\n",
       "      <th>29615</th>\n",
       "      <td>новокрещенец</td>\n",
       "    </tr>\n",
       "  </tbody>\n",
       "</table>\n",
       "<p>100 rows × 1 columns</p>\n",
       "</div>"
      ],
      "text/plain": [
       "               right\n",
       "43090    равнинность\n",
       "57063  французомания\n",
       "16388      индюшонок\n",
       "33590     папежество\n",
       "17163      кавалерия\n",
       "...              ...\n",
       "58094      художница\n",
       "16641    интроскопия\n",
       "10175   грехопадение\n",
       "16686      инфразвук\n",
       "29615   новокрещенец\n",
       "\n",
       "[100 rows x 1 columns]"
      ]
     },
     "execution_count": 53,
     "metadata": {},
     "output_type": "execute_result"
    }
   ],
   "source": [
    "test_df"
   ]
  },
  {
   "cell_type": "code",
   "execution_count": 54,
   "id": "58e303a0",
   "metadata": {},
   "outputs": [],
   "source": [
    "data = {\"right\":[],\"wrong\":[]}\n",
    "for word in test_df[\"right\"]:\n",
    "    for _ in range(100):\n",
    "        data[\"right\"].append(word)\n",
    "        data[\"wrong\"].append(make_typo(word))"
   ]
  },
  {
   "cell_type": "code",
   "execution_count": 55,
   "id": "461c4b99",
   "metadata": {},
   "outputs": [],
   "source": [
    "data = pd.DataFrame(data)"
   ]
  },
  {
   "cell_type": "code",
   "execution_count": 56,
   "id": "02ffff12",
   "metadata": {},
   "outputs": [
    {
     "data": {
      "text/html": [
       "<div>\n",
       "<style scoped>\n",
       "    .dataframe tbody tr th:only-of-type {\n",
       "        vertical-align: middle;\n",
       "    }\n",
       "\n",
       "    .dataframe tbody tr th {\n",
       "        vertical-align: top;\n",
       "    }\n",
       "\n",
       "    .dataframe thead th {\n",
       "        text-align: right;\n",
       "    }\n",
       "</style>\n",
       "<table border=\"1\" class=\"dataframe\">\n",
       "  <thead>\n",
       "    <tr style=\"text-align: right;\">\n",
       "      <th></th>\n",
       "      <th>right</th>\n",
       "      <th>wrong</th>\n",
       "    </tr>\n",
       "  </thead>\n",
       "  <tbody>\n",
       "    <tr>\n",
       "      <th>0</th>\n",
       "      <td>равнинность</td>\n",
       "      <td>ргавнинность</td>\n",
       "    </tr>\n",
       "    <tr>\n",
       "      <th>1</th>\n",
       "      <td>равнинность</td>\n",
       "      <td>равниность</td>\n",
       "    </tr>\n",
       "    <tr>\n",
       "      <th>2</th>\n",
       "      <td>равнинность</td>\n",
       "      <td>равниннсть</td>\n",
       "    </tr>\n",
       "    <tr>\n",
       "      <th>3</th>\n",
       "      <td>равнинность</td>\n",
       "      <td>равнинноисть</td>\n",
       "    </tr>\n",
       "    <tr>\n",
       "      <th>4</th>\n",
       "      <td>равнинность</td>\n",
       "      <td>гравнинность</td>\n",
       "    </tr>\n",
       "    <tr>\n",
       "      <th>...</th>\n",
       "      <td>...</td>\n",
       "      <td>...</td>\n",
       "    </tr>\n",
       "    <tr>\n",
       "      <th>9995</th>\n",
       "      <td>новокрещенец</td>\n",
       "      <td>новокрвещенец</td>\n",
       "    </tr>\n",
       "    <tr>\n",
       "      <th>9996</th>\n",
       "      <td>новокрещенец</td>\n",
       "      <td>новокрещенц</td>\n",
       "    </tr>\n",
       "    <tr>\n",
       "      <th>9997</th>\n",
       "      <td>новокрещенец</td>\n",
       "      <td>новозкрещенец</td>\n",
       "    </tr>\n",
       "    <tr>\n",
       "      <th>9998</th>\n",
       "      <td>новокрещенец</td>\n",
       "      <td>новоркещенец</td>\n",
       "    </tr>\n",
       "    <tr>\n",
       "      <th>9999</th>\n",
       "      <td>новокрещенец</td>\n",
       "      <td>ноовкрещенец</td>\n",
       "    </tr>\n",
       "  </tbody>\n",
       "</table>\n",
       "<p>10000 rows × 2 columns</p>\n",
       "</div>"
      ],
      "text/plain": [
       "             right          wrong\n",
       "0      равнинность   ргавнинность\n",
       "1      равнинность     равниность\n",
       "2      равнинность     равниннсть\n",
       "3      равнинность   равнинноисть\n",
       "4      равнинность   гравнинность\n",
       "...            ...            ...\n",
       "9995  новокрещенец  новокрвещенец\n",
       "9996  новокрещенец    новокрещенц\n",
       "9997  новокрещенец  новозкрещенец\n",
       "9998  новокрещенец   новоркещенец\n",
       "9999  новокрещенец   ноовкрещенец\n",
       "\n",
       "[10000 rows x 2 columns]"
      ]
     },
     "execution_count": 56,
     "metadata": {},
     "output_type": "execute_result"
    }
   ],
   "source": [
    "data"
   ]
  },
  {
   "cell_type": "code",
   "execution_count": 30,
   "id": "4ccd9f83",
   "metadata": {},
   "outputs": [],
   "source": [
    "def correct_word(word, dictionary):\n",
    "    word = word.lower()\n",
    "    min_distance = float('inf')\n",
    "    corrected_word = None\n",
    "    \n",
    "    for correct_word in dictionary:\n",
    "        distance = Levenshtein.distance(word, correct_word)\n",
    "        if distance < min_distance:\n",
    "            min_distance = distance\n",
    "            corrected_word = correct_word\n",
    "    \n",
    "    return corrected_word\n",
    "\n",
    "dictionary = list(data[\"right\"])\n",
    "\n",
    "data[\"corrected\"] = data[\"wrong\"].apply(lambda x: correct_word(x, dictionary))"
   ]
  },
  {
   "cell_type": "code",
   "execution_count": 94,
   "id": "c5dbe016",
   "metadata": {
    "scrolled": false
   },
   "outputs": [
    {
     "data": {
      "text/plain": [
       "{'right': ['cat', 'dog', 'apple', 'house'],\n",
       " 'wrong': ['cot', 'dgo', 'aple', 'houss']}"
      ]
     },
     "execution_count": 94,
     "metadata": {},
     "output_type": "execute_result"
    }
   ],
   "source": [
    "data"
   ]
  },
  {
   "cell_type": "code",
   "execution_count": 86,
   "id": "3ffa45e4",
   "metadata": {},
   "outputs": [],
   "source": [
    "all_words = list(data['right']) + list(data['wrong'])\n",
    "\n",
    "tokenizer = Tokenizer()\n",
    "tokenizer.fit_on_texts(all_words)\n",
    "\n",
    "sequences_right = tokenizer.texts_to_sequences(data['right'])\n",
    "sequences_wrong = tokenizer.texts_to_sequences(data['wrong'])"
   ]
  },
  {
   "cell_type": "code",
   "execution_count": 87,
   "id": "286b22b6",
   "metadata": {},
   "outputs": [],
   "source": [
    "max_length = max(max(len(seq) for seq in sequences_right), max(len(seq) for seq in sequences_wrong))\n",
    "sequences_right_padded = pad_sequences(sequences_right, maxlen=max_length, padding='post')\n",
    "sequences_wrong_padded = pad_sequences(sequences_wrong, maxlen=max_length, padding='post')\n"
   ]
  },
  {
   "cell_type": "code",
   "execution_count": 88,
   "id": "58f5ed1a",
   "metadata": {},
   "outputs": [],
   "source": [
    "vocab_size = len(tokenizer.word_index) + 1\n",
    "embedding_dim = 50\n",
    "lstm_units = 128\n",
    "\n",
    "input_layer = Input(shape=(max_length,))\n",
    "\n",
    "\n",
    "embedding_layer = Embedding(vocab_size, embedding_dim, input_length=max_length)(input_layer)\n",
    "\n",
    "\n",
    "lstm_layer = LSTM(lstm_units)(embedding_layer)\n",
    "\n",
    "\n",
    "output_layer = Dense(vocab_size, activation='softmax')(lstm_layer)"
   ]
  },
  {
   "cell_type": "code",
   "execution_count": 89,
   "id": "403b60ec",
   "metadata": {
    "scrolled": true
   },
   "outputs": [
    {
     "name": "stdout",
     "output_type": "stream",
     "text": [
      "Epoch 1/10\n",
      "1/1 [==============================] - 2s 2s/step - loss: 2.1967 - accuracy: 0.0000e+00 - val_loss: 2.1972 - val_accuracy: 0.0000e+00\n",
      "Epoch 2/10\n",
      "1/1 [==============================] - 0s 29ms/step - loss: 2.1903 - accuracy: 0.3333 - val_loss: 2.1991 - val_accuracy: 0.0000e+00\n",
      "Epoch 3/10\n",
      "1/1 [==============================] - 0s 26ms/step - loss: 2.1840 - accuracy: 0.6667 - val_loss: 2.2010 - val_accuracy: 0.0000e+00\n",
      "Epoch 4/10\n",
      "1/1 [==============================] - 0s 29ms/step - loss: 2.1776 - accuracy: 1.0000 - val_loss: 2.2029 - val_accuracy: 0.0000e+00\n",
      "Epoch 5/10\n",
      "1/1 [==============================] - 0s 29ms/step - loss: 2.1711 - accuracy: 1.0000 - val_loss: 2.2048 - val_accuracy: 0.0000e+00\n",
      "Epoch 6/10\n",
      "1/1 [==============================] - 0s 28ms/step - loss: 2.1645 - accuracy: 1.0000 - val_loss: 2.2067 - val_accuracy: 0.0000e+00\n",
      "Epoch 7/10\n",
      "1/1 [==============================] - 0s 28ms/step - loss: 2.1577 - accuracy: 1.0000 - val_loss: 2.2085 - val_accuracy: 0.0000e+00\n",
      "Epoch 8/10\n",
      "1/1 [==============================] - 0s 26ms/step - loss: 2.1508 - accuracy: 1.0000 - val_loss: 2.2103 - val_accuracy: 0.0000e+00\n",
      "Epoch 9/10\n",
      "1/1 [==============================] - 0s 28ms/step - loss: 2.1436 - accuracy: 1.0000 - val_loss: 2.2122 - val_accuracy: 0.0000e+00\n",
      "Epoch 10/10\n",
      "1/1 [==============================] - 0s 28ms/step - loss: 2.1362 - accuracy: 1.0000 - val_loss: 2.2141 - val_accuracy: 0.0000e+00\n"
     ]
    },
    {
     "data": {
      "text/plain": [
       "<keras.src.callbacks.History at 0x15138ec65f0>"
      ]
     },
     "execution_count": 89,
     "metadata": {},
     "output_type": "execute_result"
    }
   ],
   "source": [
    "\n",
    "\n",
    "\n",
    "model = Model(inputs=input_layer, outputs=output_layer)\n",
    "model.compile(optimizer='adam', loss='sparse_categorical_crossentropy', metrics=['accuracy'])\n",
    "\n",
    "\n",
    "model.fit(sequences_wrong_padded, sequences_right_padded, epochs=10, batch_size=32, validation_split=0.2)\n"
   ]
  },
  {
   "cell_type": "code",
   "execution_count": 90,
   "id": "7b7c3b54",
   "metadata": {},
   "outputs": [
    {
     "name": "stdout",
     "output_type": "stream",
     "text": [
      "1/1 [==============================] - 0s 323ms/step\n",
      "Неправильное написание: теполечение, Предсказанное исправление: cat\n"
     ]
    }
   ],
   "source": [
    "def correct_spelling(wrong_word):\n",
    "    sequence = tokenizer.texts_to_sequences([wrong_word])\n",
    "    padded_sequence = pad_sequences(sequence, maxlen=max_length, padding='post')\n",
    "    predicted_sequence = model.predict(padded_sequence)\n",
    "    predicted_index = np.argmax(predicted_sequence, axis=-1)\n",
    "    predicted_word = tokenizer.index_word[predicted_index[0]]\n",
    "    return predicted_word\n",
    "\n",
    "# Пример использования\n",
    "incorrect_word = \"теполечение\"\n",
    "corrected_word = correct_spelling(incorrect_word)\n",
    "print(f\"Неправильное написание: {incorrect_word}, Предсказанное исправление: {corrected_word}\")\n"
   ]
  },
  {
   "cell_type": "code",
   "execution_count": 69,
   "id": "1cfe8429",
   "metadata": {},
   "outputs": [],
   "source": [
    "test = data.sample(100, replace=False)"
   ]
  },
  {
   "cell_type": "code",
   "execution_count": 70,
   "id": "1ffe765a",
   "metadata": {
    "scrolled": true
   },
   "outputs": [
    {
     "data": {
      "text/html": [
       "<div>\n",
       "<style scoped>\n",
       "    .dataframe tbody tr th:only-of-type {\n",
       "        vertical-align: middle;\n",
       "    }\n",
       "\n",
       "    .dataframe tbody tr th {\n",
       "        vertical-align: top;\n",
       "    }\n",
       "\n",
       "    .dataframe thead th {\n",
       "        text-align: right;\n",
       "    }\n",
       "</style>\n",
       "<table border=\"1\" class=\"dataframe\">\n",
       "  <thead>\n",
       "    <tr style=\"text-align: right;\">\n",
       "      <th></th>\n",
       "      <th>right</th>\n",
       "      <th>wrong</th>\n",
       "    </tr>\n",
       "  </thead>\n",
       "  <tbody>\n",
       "    <tr>\n",
       "      <th>9689</th>\n",
       "      <td>интроскопия</td>\n",
       "      <td>инвроскопия</td>\n",
       "    </tr>\n",
       "    <tr>\n",
       "      <th>1903</th>\n",
       "      <td>бронебойщик</td>\n",
       "      <td>бронебойик</td>\n",
       "    </tr>\n",
       "    <tr>\n",
       "      <th>8753</th>\n",
       "      <td>квинтет</td>\n",
       "      <td>квинет</td>\n",
       "    </tr>\n",
       "    <tr>\n",
       "      <th>1829</th>\n",
       "      <td>заколка</td>\n",
       "      <td>заоклка</td>\n",
       "    </tr>\n",
       "    <tr>\n",
       "      <th>5035</th>\n",
       "      <td>менеджмент</td>\n",
       "      <td>енеджмент</td>\n",
       "    </tr>\n",
       "    <tr>\n",
       "      <th>...</th>\n",
       "      <td>...</td>\n",
       "      <td>...</td>\n",
       "    </tr>\n",
       "    <tr>\n",
       "      <th>4139</th>\n",
       "      <td>дактилография</td>\n",
       "      <td>дактилоярафия</td>\n",
       "    </tr>\n",
       "    <tr>\n",
       "      <th>1739</th>\n",
       "      <td>натравщица</td>\n",
       "      <td>натарвщица</td>\n",
       "    </tr>\n",
       "    <tr>\n",
       "      <th>9677</th>\n",
       "      <td>интроскопия</td>\n",
       "      <td>итнроскопия</td>\n",
       "    </tr>\n",
       "    <tr>\n",
       "      <th>7214</th>\n",
       "      <td>микроцефал</td>\n",
       "      <td>микрогцефал</td>\n",
       "    </tr>\n",
       "    <tr>\n",
       "      <th>9506</th>\n",
       "      <td>художница</td>\n",
       "      <td>худчожница</td>\n",
       "    </tr>\n",
       "  </tbody>\n",
       "</table>\n",
       "<p>100 rows × 2 columns</p>\n",
       "</div>"
      ],
      "text/plain": [
       "              right          wrong\n",
       "9689    интроскопия    инвроскопия\n",
       "1903    бронебойщик     бронебойик\n",
       "8753        квинтет         квинет\n",
       "1829        заколка        заоклка\n",
       "5035     менеджмент      енеджмент\n",
       "...             ...            ...\n",
       "4139  дактилография  дактилоярафия\n",
       "1739     натравщица     натарвщица\n",
       "9677    интроскопия    итнроскопия\n",
       "7214     микроцефал    микрогцефал\n",
       "9506      художница     худчожница\n",
       "\n",
       "[100 rows x 2 columns]"
      ]
     },
     "execution_count": 70,
     "metadata": {},
     "output_type": "execute_result"
    }
   ],
   "source": [
    "test"
   ]
  },
  {
   "cell_type": "code",
   "execution_count": 77,
   "id": "990867e3",
   "metadata": {},
   "outputs": [
    {
     "name": "stdout",
     "output_type": "stream",
     "text": [
      "1/1 [==============================] - 0s 18ms/step\n",
      "1/1 [==============================] - 0s 18ms/step\n",
      "1/1 [==============================] - 0s 17ms/step\n"
     ]
    }
   ],
   "source": [
    "import random\n",
    "\n",
    "wr = \"\"\n",
    "res = \"\"\n",
    "for i in range(3):\n",
    "    word = test[\"wrong\"].iloc[random.randint(0,100)]\n",
    "    wr+= word + \" \"\n",
    "    \n",
    "    res += correct_spelling(word) + \" \""
   ]
  },
  {
   "cell_type": "code",
   "execution_count": 78,
   "id": "c9039edf",
   "metadata": {},
   "outputs": [
    {
     "data": {
      "text/plain": [
       "'проглатыванеие многожекнство всгполаскивание '"
      ]
     },
     "execution_count": 78,
     "metadata": {},
     "output_type": "execute_result"
    }
   ],
   "source": [
    "wr"
   ]
  },
  {
   "cell_type": "code",
   "execution_count": 79,
   "id": "8cdd046f",
   "metadata": {},
   "outputs": [
    {
     "data": {
      "text/plain": [
       "'проглатывание многоженство всполаскивание '"
      ]
     },
     "execution_count": 79,
     "metadata": {},
     "output_type": "execute_result"
    }
   ],
   "source": [
    "res"
   ]
  },
  {
   "cell_type": "code",
   "execution_count": 93,
   "id": "0a4a4bdb",
   "metadata": {},
   "outputs": [
    {
     "data": {
      "application/vnd.jupyter.widget-view+json": {
       "model_id": "54df77ba2a4340abadd1ff9424c2253a",
       "version_major": 2,
       "version_minor": 0
      },
      "text/plain": [
       "Textarea(value='', description='Текст:', layout=Layout(width='50%'), placeholder='Введите текст')"
      ]
     },
     "metadata": {},
     "output_type": "display_data"
    },
    {
     "data": {
      "application/vnd.jupyter.widget-view+json": {
       "model_id": "d1af8b4e236a4ad28b4b5dc1078445be",
       "version_major": 2,
       "version_minor": 0
      },
      "text/plain": [
       "Button(description='Пуск', style=ButtonStyle())"
      ]
     },
     "metadata": {},
     "output_type": "display_data"
    },
    {
     "data": {
      "application/vnd.jupyter.widget-view+json": {
       "model_id": "b6af2681bb1b4944a7a4ab66e0d7fd2f",
       "version_major": 2,
       "version_minor": 0
      },
      "text/plain": [
       "Textarea(value='', description='Исправлено:', disabled=True, layout=Layout(width='50%'), placeholder='Исправле…"
      ]
     },
     "metadata": {},
     "output_type": "display_data"
    },
    {
     "name": "stdout",
     "output_type": "stream",
     "text": [
      "1/1 [==============================] - 0s 18ms/step\n"
     ]
    }
   ],
   "source": [
    "import ipywidgets as widgets\n",
    "from IPython.display import display\n",
    "\n",
    "def correct_words(b):\n",
    "    # Получаем текст из поля ввода\n",
    "    input_text = input_text_area.value.strip()\n",
    "    # Заменяем слова с ошибками на исправленные\n",
    "    corrected_text = correct_text(input_text)\n",
    "    # Выводим исправленный текст\n",
    "    output_text_area.value = corrected_text\n",
    "\n",
    "def correct_text(input_text):\n",
    "    sequence = tokenizer.texts_to_sequences([input_text])\n",
    "    padded_sequence = pad_sequences(sequence, maxlen=max_length, padding='post')\n",
    "    predicted_sequence = model.predict(padded_sequence)\n",
    "    predicted_index = np.argmax(predicted_sequence, axis=-1)\n",
    "    predicted_word = tokenizer.index_word[predicted_index[0]]\n",
    "    return predicted_word\n",
    "\n",
    "# Создаем текстовое поле для ввода текста\n",
    "input_text_area = widgets.Textarea(\n",
    "    value='',\n",
    "    placeholder='Введите текст',\n",
    "    description='Текст:',\n",
    "    disabled=False,\n",
    "    layout={'width': '50%'}\n",
    ")\n",
    "\n",
    "# Создаем кнопку \"Пуск\"\n",
    "run_button = widgets.Button(description=\"Пуск\")\n",
    "run_button.on_click(correct_words)\n",
    "\n",
    "# Создаем текстовую область для вывода исправленного текста\n",
    "output_text_area = widgets.Textarea(\n",
    "    value='',\n",
    "    placeholder='Исправленный текст',\n",
    "    description='Исправлено:',\n",
    "    disabled=True,\n",
    "    layout={'width': '50%'}\n",
    ")\n",
    "\n",
    "# Отображаем элементы интерфейса\n",
    "display(input_text_area)\n",
    "display(run_button)\n",
    "display(output_text_area)\n"
   ]
  }
 ],
 "metadata": {
  "kernelspec": {
   "display_name": "Python 3 (ipykernel)",
   "language": "python",
   "name": "python3"
  },
  "language_info": {
   "codemirror_mode": {
    "name": "ipython",
    "version": 3
   },
   "file_extension": ".py",
   "mimetype": "text/x-python",
   "name": "python",
   "nbconvert_exporter": "python",
   "pygments_lexer": "ipython3",
   "version": "3.10.9"
  }
 },
 "nbformat": 4,
 "nbformat_minor": 5
}
