{
 "cells": [
  {
   "cell_type": "code",
   "execution_count": 130,
   "id": "5a782290",
   "metadata": {},
   "outputs": [],
   "source": [
    "import pandas as pd\n",
    "import numpy as np\n",
    "import pandas as pd\n",
    "import tensorflow as tf\n",
    "from tensorflow.keras.preprocessing.text import Tokenizer\n",
    "from tensorflow.keras.preprocessing.sequence import pad_sequences\n",
    "from tensorflow.keras.layers import Input, Embedding, LSTM, Dense\n",
    "from tensorflow.keras.models import Model\n",
    "import Levenshtein"
   ]
  },
  {
   "cell_type": "markdown",
   "id": "a2c01e35",
   "metadata": {},
   "source": [
    "# Для обучения модели взял набор русских слов размерность 10к"
   ]
  },
  {
   "cell_type": "code",
   "execution_count": 99,
   "id": "267ac256",
   "metadata": {},
   "outputs": [],
   "source": [
    "with open(\"dict.txt\",'r',encoding=\"UTF-8\") as file:\n",
    "    lines = file.readlines()"
   ]
  },
  {
   "cell_type": "code",
   "execution_count": 100,
   "id": "b9ad1e94",
   "metadata": {},
   "outputs": [],
   "source": [
    "df = pd.DataFrame()"
   ]
  },
  {
   "cell_type": "code",
   "execution_count": 101,
   "id": "975b97f0",
   "metadata": {},
   "outputs": [],
   "source": [
    "lines = [l.strip() for l in lines]"
   ]
  },
  {
   "cell_type": "code",
   "execution_count": 102,
   "id": "5d292501",
   "metadata": {},
   "outputs": [],
   "source": [
    "df[\"right\"] = lines"
   ]
  },
  {
   "cell_type": "markdown",
   "id": "0aa577b2",
   "metadata": {},
   "source": [
    "# Функция для добавления ошибок в слова"
   ]
  },
  {
   "cell_type": "code",
   "execution_count": 103,
   "id": "8082cbd9",
   "metadata": {},
   "outputs": [],
   "source": [
    "import random\n",
    "\n",
    "def make_typo(word):\n",
    "    error_type = random.choice([\"replace\", \"omit\", \"swap\", \"add\"])\n",
    "    typo = \"\"\n",
    "    \n",
    "    if error_type == \"replace\":\n",
    "        index = random.randint(0, len(word)-1)\n",
    "        new_letter = random.choice([chr(i) for i in range(1072, 1104) if chr(i) != word[index]])\n",
    "        typo = word[:index] + new_letter + word[index+1:]\n",
    "    elif error_type == \"omit\":\n",
    "        index = random.randint(0, len(word)-2)\n",
    "        typo = word[:index] + word[index+1:]\n",
    "    elif error_type == \"swap\":\n",
    "        index = random.randint(0, len(word)-2)\n",
    "        typo = word[:index] + word[index+1] + word[index] + word[index+2:]\n",
    "    elif error_type == \"add\":\n",
    "        index = random.randint(0, len(word)-1)\n",
    "        new_letter = random.choice([chr(i) for i in range(1072, 1104)])\n",
    "        typo = word[:index] + new_letter + word[index:]\n",
    "\n",
    "    return typo\n"
   ]
  },
  {
   "cell_type": "code",
   "execution_count": 104,
   "id": "e37c5472",
   "metadata": {},
   "outputs": [],
   "source": [
    "test_df = df.sample(100, replace=False)"
   ]
  },
  {
   "cell_type": "code",
   "execution_count": 105,
   "id": "15e7459a",
   "metadata": {},
   "outputs": [
    {
     "data": {
      "text/html": [
       "<div>\n",
       "<style scoped>\n",
       "    .dataframe tbody tr th:only-of-type {\n",
       "        vertical-align: middle;\n",
       "    }\n",
       "\n",
       "    .dataframe tbody tr th {\n",
       "        vertical-align: top;\n",
       "    }\n",
       "\n",
       "    .dataframe thead th {\n",
       "        text-align: right;\n",
       "    }\n",
       "</style>\n",
       "<table border=\"1\" class=\"dataframe\">\n",
       "  <thead>\n",
       "    <tr style=\"text-align: right;\">\n",
       "      <th></th>\n",
       "      <th>right</th>\n",
       "    </tr>\n",
       "  </thead>\n",
       "  <tbody>\n",
       "    <tr>\n",
       "      <th>45221</th>\n",
       "      <td>ржавчинник</td>\n",
       "    </tr>\n",
       "    <tr>\n",
       "      <th>7430</th>\n",
       "      <td>выбрасывание</td>\n",
       "    </tr>\n",
       "    <tr>\n",
       "      <th>40261</th>\n",
       "      <td>привратница</td>\n",
       "    </tr>\n",
       "    <tr>\n",
       "      <th>27282</th>\n",
       "      <td>наползание</td>\n",
       "    </tr>\n",
       "    <tr>\n",
       "      <th>42729</th>\n",
       "      <td>пустолайка</td>\n",
       "    </tr>\n",
       "    <tr>\n",
       "      <th>...</th>\n",
       "      <td>...</td>\n",
       "    </tr>\n",
       "    <tr>\n",
       "      <th>35439</th>\n",
       "      <td>перидий</td>\n",
       "    </tr>\n",
       "    <tr>\n",
       "      <th>42512</th>\n",
       "      <td>псица</td>\n",
       "    </tr>\n",
       "    <tr>\n",
       "      <th>27093</th>\n",
       "      <td>наклонность</td>\n",
       "    </tr>\n",
       "    <tr>\n",
       "      <th>5306</th>\n",
       "      <td>варакушка</td>\n",
       "    </tr>\n",
       "    <tr>\n",
       "      <th>19331</th>\n",
       "      <td>колобашка</td>\n",
       "    </tr>\n",
       "  </tbody>\n",
       "</table>\n",
       "<p>100 rows × 1 columns</p>\n",
       "</div>"
      ],
      "text/plain": [
       "              right\n",
       "45221    ржавчинник\n",
       "7430   выбрасывание\n",
       "40261   привратница\n",
       "27282    наползание\n",
       "42729    пустолайка\n",
       "...             ...\n",
       "35439       перидий\n",
       "42512         псица\n",
       "27093   наклонность\n",
       "5306      варакушка\n",
       "19331     колобашка\n",
       "\n",
       "[100 rows x 1 columns]"
      ]
     },
     "execution_count": 105,
     "metadata": {},
     "output_type": "execute_result"
    }
   ],
   "source": [
    "test_df"
   ]
  },
  {
   "cell_type": "code",
   "execution_count": 106,
   "id": "58e303a0",
   "metadata": {},
   "outputs": [],
   "source": [
    "data = {\"right\":[],\"wrong\":[]}\n",
    "for word in test_df[\"right\"]:\n",
    "    for _ in range(100):\n",
    "        data[\"right\"].append(word)\n",
    "        data[\"wrong\"].append(make_typo(word))"
   ]
  },
  {
   "cell_type": "code",
   "execution_count": 107,
   "id": "461c4b99",
   "metadata": {},
   "outputs": [],
   "source": [
    "data = pd.DataFrame(data)"
   ]
  },
  {
   "cell_type": "markdown",
   "id": "3200a2e5",
   "metadata": {},
   "source": [
    "# Создал DF в котором у каждого слова с ошибкой есть его вариант без ошибки"
   ]
  },
  {
   "cell_type": "code",
   "execution_count": 96,
   "id": "02ffff12",
   "metadata": {
    "scrolled": true
   },
   "outputs": [
    {
     "data": {
      "text/html": [
       "<div>\n",
       "<style scoped>\n",
       "    .dataframe tbody tr th:only-of-type {\n",
       "        vertical-align: middle;\n",
       "    }\n",
       "\n",
       "    .dataframe tbody tr th {\n",
       "        vertical-align: top;\n",
       "    }\n",
       "\n",
       "    .dataframe thead th {\n",
       "        text-align: right;\n",
       "    }\n",
       "</style>\n",
       "<table border=\"1\" class=\"dataframe\">\n",
       "  <thead>\n",
       "    <tr style=\"text-align: right;\">\n",
       "      <th></th>\n",
       "      <th>right</th>\n",
       "      <th>wrong</th>\n",
       "    </tr>\n",
       "  </thead>\n",
       "  <tbody>\n",
       "    <tr>\n",
       "      <th>0</th>\n",
       "      <td>пойнтер</td>\n",
       "      <td>пойнетр</td>\n",
       "    </tr>\n",
       "    <tr>\n",
       "      <th>1</th>\n",
       "      <td>пойнтер</td>\n",
       "      <td>пойнтр</td>\n",
       "    </tr>\n",
       "    <tr>\n",
       "      <th>2</th>\n",
       "      <td>пойнтер</td>\n",
       "      <td>пщйнтер</td>\n",
       "    </tr>\n",
       "    <tr>\n",
       "      <th>3</th>\n",
       "      <td>пойнтер</td>\n",
       "      <td>пойтер</td>\n",
       "    </tr>\n",
       "    <tr>\n",
       "      <th>4</th>\n",
       "      <td>пойнтер</td>\n",
       "      <td>пойтнер</td>\n",
       "    </tr>\n",
       "    <tr>\n",
       "      <th>...</th>\n",
       "      <td>...</td>\n",
       "      <td>...</td>\n",
       "    </tr>\n",
       "    <tr>\n",
       "      <th>9995</th>\n",
       "      <td>смотрок</td>\n",
       "      <td>смотрох</td>\n",
       "    </tr>\n",
       "    <tr>\n",
       "      <th>9996</th>\n",
       "      <td>смотрок</td>\n",
       "      <td>смотрко</td>\n",
       "    </tr>\n",
       "    <tr>\n",
       "      <th>9997</th>\n",
       "      <td>смотрок</td>\n",
       "      <td>сморок</td>\n",
       "    </tr>\n",
       "    <tr>\n",
       "      <th>9998</th>\n",
       "      <td>смотрок</td>\n",
       "      <td>смцотрок</td>\n",
       "    </tr>\n",
       "    <tr>\n",
       "      <th>9999</th>\n",
       "      <td>смотрок</td>\n",
       "      <td>сотрок</td>\n",
       "    </tr>\n",
       "  </tbody>\n",
       "</table>\n",
       "<p>10000 rows × 2 columns</p>\n",
       "</div>"
      ],
      "text/plain": [
       "        right     wrong\n",
       "0     пойнтер   пойнетр\n",
       "1     пойнтер    пойнтр\n",
       "2     пойнтер   пщйнтер\n",
       "3     пойнтер    пойтер\n",
       "4     пойнтер   пойтнер\n",
       "...       ...       ...\n",
       "9995  смотрок   смотрох\n",
       "9996  смотрок   смотрко\n",
       "9997  смотрок    сморок\n",
       "9998  смотрок  смцотрок\n",
       "9999  смотрок    сотрок\n",
       "\n",
       "[10000 rows x 2 columns]"
      ]
     },
     "execution_count": 96,
     "metadata": {},
     "output_type": "execute_result"
    }
   ],
   "source": [
    "data"
   ]
  },
  {
   "cell_type": "markdown",
   "id": "e79745c3",
   "metadata": {},
   "source": [
    "# Использовал подход с ML и без\n",
    "\n",
    "# Здесь я ипользую расстояние Левенштейна, которое для неправильного слова находит правильное, из переданного списка."
   ]
  },
  {
   "cell_type": "code",
   "execution_count": 132,
   "id": "4ccd9f83",
   "metadata": {},
   "outputs": [],
   "source": [
    "def correct_word(word, dictionary):\n",
    "    word = word.lower()\n",
    "    min_distance = float('inf')#При начале ставим расстояние на максимум\n",
    "    corrected_word = None#Правильное слово пока что нул\n",
    "    \n",
    "    for correct_word in dictionary:#Бежим по словарю\n",
    "        distance = Levenshtein.distance(word, correct_word)\n",
    "        if distance < min_distance:#Если найденное растояние меньше уже записаннаого, то запоминаем это растояние и слово\n",
    "            min_distance = distance\n",
    "            corrected_word = correct_word\n",
    "    \n",
    "    return corrected_word#Возвращаем слово с самым маленьким растоянием\n"
   ]
  },
  {
   "cell_type": "code",
   "execution_count": 108,
   "id": "c5dbe016",
   "metadata": {
    "scrolled": false
   },
   "outputs": [
    {
     "data": {
      "text/html": [
       "<div>\n",
       "<style scoped>\n",
       "    .dataframe tbody tr th:only-of-type {\n",
       "        vertical-align: middle;\n",
       "    }\n",
       "\n",
       "    .dataframe tbody tr th {\n",
       "        vertical-align: top;\n",
       "    }\n",
       "\n",
       "    .dataframe thead th {\n",
       "        text-align: right;\n",
       "    }\n",
       "</style>\n",
       "<table border=\"1\" class=\"dataframe\">\n",
       "  <thead>\n",
       "    <tr style=\"text-align: right;\">\n",
       "      <th></th>\n",
       "      <th>right</th>\n",
       "      <th>wrong</th>\n",
       "    </tr>\n",
       "  </thead>\n",
       "  <tbody>\n",
       "    <tr>\n",
       "      <th>0</th>\n",
       "      <td>ржавчинник</td>\n",
       "      <td>ржавчиннрк</td>\n",
       "    </tr>\n",
       "    <tr>\n",
       "      <th>1</th>\n",
       "      <td>ржавчинник</td>\n",
       "      <td>ржвчинник</td>\n",
       "    </tr>\n",
       "    <tr>\n",
       "      <th>2</th>\n",
       "      <td>ржавчинник</td>\n",
       "      <td>ржавчилнник</td>\n",
       "    </tr>\n",
       "    <tr>\n",
       "      <th>3</th>\n",
       "      <td>ржавчинник</td>\n",
       "      <td>државчинник</td>\n",
       "    </tr>\n",
       "    <tr>\n",
       "      <th>4</th>\n",
       "      <td>ржавчинник</td>\n",
       "      <td>ржавчинниек</td>\n",
       "    </tr>\n",
       "    <tr>\n",
       "      <th>...</th>\n",
       "      <td>...</td>\n",
       "      <td>...</td>\n",
       "    </tr>\n",
       "    <tr>\n",
       "      <th>9995</th>\n",
       "      <td>колобашка</td>\n",
       "      <td>колобаша</td>\n",
       "    </tr>\n",
       "    <tr>\n",
       "      <th>9996</th>\n",
       "      <td>колобашка</td>\n",
       "      <td>колобашкча</td>\n",
       "    </tr>\n",
       "    <tr>\n",
       "      <th>9997</th>\n",
       "      <td>колобашка</td>\n",
       "      <td>колоаашка</td>\n",
       "    </tr>\n",
       "    <tr>\n",
       "      <th>9998</th>\n",
       "      <td>колобашка</td>\n",
       "      <td>колобшака</td>\n",
       "    </tr>\n",
       "    <tr>\n",
       "      <th>9999</th>\n",
       "      <td>колобашка</td>\n",
       "      <td>кодобашка</td>\n",
       "    </tr>\n",
       "  </tbody>\n",
       "</table>\n",
       "<p>10000 rows × 2 columns</p>\n",
       "</div>"
      ],
      "text/plain": [
       "           right        wrong\n",
       "0     ржавчинник   ржавчиннрк\n",
       "1     ржавчинник    ржвчинник\n",
       "2     ржавчинник  ржавчилнник\n",
       "3     ржавчинник  државчинник\n",
       "4     ржавчинник  ржавчинниек\n",
       "...          ...          ...\n",
       "9995   колобашка     колобаша\n",
       "9996   колобашка   колобашкча\n",
       "9997   колобашка    колоаашка\n",
       "9998   колобашка    колобшака\n",
       "9999   колобашка    кодобашка\n",
       "\n",
       "[10000 rows x 2 columns]"
      ]
     },
     "execution_count": 108,
     "metadata": {},
     "output_type": "execute_result"
    }
   ],
   "source": [
    "data"
   ]
  },
  {
   "cell_type": "markdown",
   "id": "549e4e42",
   "metadata": {},
   "source": [
    "# С использованием ML\n",
    "\n",
    "# Токенезируем каждое слово, то есть у каждого слова теперь есть числовой индекс"
   ]
  },
  {
   "cell_type": "code",
   "execution_count": 109,
   "id": "3ffa45e4",
   "metadata": {},
   "outputs": [],
   "source": [
    "all_words = list(data['right']) + list(data['wrong'])\n",
    "\n",
    "tokenizer = Tokenizer()\n",
    "tokenizer.fit_on_texts(all_words)\n",
    "\n",
    "sequences_right = tokenizer.texts_to_sequences(data['right'])\n",
    "sequences_wrong = tokenizer.texts_to_sequences(data['wrong'])"
   ]
  },
  {
   "cell_type": "code",
   "execution_count": 110,
   "id": "58f5ed1a",
   "metadata": {},
   "outputs": [],
   "source": [
    "vocab_size = len(tokenizer.word_index) + 1 #Кол-во слов в словаре\n",
    "embedding_dim = 50 #Длинна вектора для каждого слова\n",
    "lstm_units = 128 # Кол-во нейронов в LSTM\n",
    "\n",
    "input_layer = Input(shape=(max_length,)) #Входной слой нейронки\n",
    "\n",
    "\n",
    "embedding_layer = Embedding(vocab_size, embedding_dim, input_length=max_length)(input_layer) # Каждое слово переводим в вектор\n",
    "\n",
    "\n",
    "lstm_layer = LSTM(lstm_units)(embedding_layer)\n",
    "\n",
    "\n",
    "output_layer = Dense(vocab_size, activation='softmax')(lstm_layer) # Выходной слой"
   ]
  },
  {
   "cell_type": "code",
   "execution_count": 111,
   "id": "403b60ec",
   "metadata": {
    "scrolled": true
   },
   "outputs": [
    {
     "name": "stdout",
     "output_type": "stream",
     "text": [
      "Epoch 1/10\n",
      "313/313 [==============================] - 7s 18ms/step - loss: 6.5017 - accuracy: 0.0082\n",
      "Epoch 2/10\n",
      "313/313 [==============================] - 5s 17ms/step - loss: 4.6326 - accuracy: 0.0087\n",
      "Epoch 3/10\n",
      "313/313 [==============================] - 6s 18ms/step - loss: 4.6141 - accuracy: 0.0091\n",
      "Epoch 4/10\n",
      "313/313 [==============================] - 5s 17ms/step - loss: 4.5654 - accuracy: 0.0107\n",
      "Epoch 5/10\n",
      "313/313 [==============================] - 5s 18ms/step - loss: 4.2802 - accuracy: 0.0340\n",
      "Epoch 6/10\n",
      "313/313 [==============================] - 5s 18ms/step - loss: 3.3794 - accuracy: 0.2181\n",
      "Epoch 7/10\n",
      "313/313 [==============================] - 5s 18ms/step - loss: 1.9184 - accuracy: 0.7022\n",
      "Epoch 8/10\n",
      "313/313 [==============================] - 5s 18ms/step - loss: 0.6726 - accuracy: 0.9747\n",
      "Epoch 9/10\n",
      "313/313 [==============================] - 6s 18ms/step - loss: 0.1730 - accuracy: 0.9998\n",
      "Epoch 10/10\n",
      "313/313 [==============================] - 6s 18ms/step - loss: 0.0622 - accuracy: 0.9999\n"
     ]
    },
    {
     "data": {
      "text/plain": [
       "<keras.src.callbacks.History at 0x24ff95cf550>"
      ]
     },
     "execution_count": 111,
     "metadata": {},
     "output_type": "execute_result"
    }
   ],
   "source": [
    "\n",
    "\n",
    "\n",
    "model = Model(inputs=input_layer, outputs=output_layer)\n",
    "model.compile(optimizer='adam', loss='sparse_categorical_crossentropy', metrics=['accuracy'])\n",
    "\n",
    "\n",
    "model.fit(sequences_wrong, sequences_right, epochs=10, batch_size=32, validation_split=0)\n"
   ]
  },
  {
   "cell_type": "markdown",
   "id": "c371d7a5",
   "metadata": {},
   "source": [
    "# На вход функции подается слово, его переводит в токен и модель предсказывает как его исправить"
   ]
  },
  {
   "cell_type": "code",
   "execution_count": 112,
   "id": "7b7c3b54",
   "metadata": {},
   "outputs": [],
   "source": [
    "def correct_spelling(wrong_word):\n",
    "    sequence = tokenizer.texts_to_sequences([wrong_word])\n",
    "    padded_sequence = pad_sequences(sequence, maxlen=max_length, padding='post')\n",
    "    predicted_sequence = model.predict(padded_sequence)\n",
    "    predicted_index = np.argmax(predicted_sequence, axis=-1)\n",
    "    predicted_word = tokenizer.index_word[predicted_index[0]]\n",
    "    return predicted_word\n"
   ]
  },
  {
   "cell_type": "code",
   "execution_count": 113,
   "id": "ca0b1e6b",
   "metadata": {
    "scrolled": true
   },
   "outputs": [
    {
     "data": {
      "text/html": [
       "<div>\n",
       "<style scoped>\n",
       "    .dataframe tbody tr th:only-of-type {\n",
       "        vertical-align: middle;\n",
       "    }\n",
       "\n",
       "    .dataframe tbody tr th {\n",
       "        vertical-align: top;\n",
       "    }\n",
       "\n",
       "    .dataframe thead th {\n",
       "        text-align: right;\n",
       "    }\n",
       "</style>\n",
       "<table border=\"1\" class=\"dataframe\">\n",
       "  <thead>\n",
       "    <tr style=\"text-align: right;\">\n",
       "      <th></th>\n",
       "      <th>right</th>\n",
       "      <th>wrong</th>\n",
       "    </tr>\n",
       "  </thead>\n",
       "  <tbody>\n",
       "    <tr>\n",
       "      <th>0</th>\n",
       "      <td>ржавчинник</td>\n",
       "      <td>ржавчиннрк</td>\n",
       "    </tr>\n",
       "    <tr>\n",
       "      <th>1</th>\n",
       "      <td>ржавчинник</td>\n",
       "      <td>ржвчинник</td>\n",
       "    </tr>\n",
       "    <tr>\n",
       "      <th>2</th>\n",
       "      <td>ржавчинник</td>\n",
       "      <td>ржавчилнник</td>\n",
       "    </tr>\n",
       "    <tr>\n",
       "      <th>3</th>\n",
       "      <td>ржавчинник</td>\n",
       "      <td>државчинник</td>\n",
       "    </tr>\n",
       "    <tr>\n",
       "      <th>4</th>\n",
       "      <td>ржавчинник</td>\n",
       "      <td>ржавчинниек</td>\n",
       "    </tr>\n",
       "    <tr>\n",
       "      <th>...</th>\n",
       "      <td>...</td>\n",
       "      <td>...</td>\n",
       "    </tr>\n",
       "    <tr>\n",
       "      <th>9995</th>\n",
       "      <td>колобашка</td>\n",
       "      <td>колобаша</td>\n",
       "    </tr>\n",
       "    <tr>\n",
       "      <th>9996</th>\n",
       "      <td>колобашка</td>\n",
       "      <td>колобашкча</td>\n",
       "    </tr>\n",
       "    <tr>\n",
       "      <th>9997</th>\n",
       "      <td>колобашка</td>\n",
       "      <td>колоаашка</td>\n",
       "    </tr>\n",
       "    <tr>\n",
       "      <th>9998</th>\n",
       "      <td>колобашка</td>\n",
       "      <td>колобшака</td>\n",
       "    </tr>\n",
       "    <tr>\n",
       "      <th>9999</th>\n",
       "      <td>колобашка</td>\n",
       "      <td>кодобашка</td>\n",
       "    </tr>\n",
       "  </tbody>\n",
       "</table>\n",
       "<p>10000 rows × 2 columns</p>\n",
       "</div>"
      ],
      "text/plain": [
       "           right        wrong\n",
       "0     ржавчинник   ржавчиннрк\n",
       "1     ржавчинник    ржвчинник\n",
       "2     ржавчинник  ржавчилнник\n",
       "3     ржавчинник  државчинник\n",
       "4     ржавчинник  ржавчинниек\n",
       "...          ...          ...\n",
       "9995   колобашка     колобаша\n",
       "9996   колобашка   колобашкча\n",
       "9997   колобашка    колоаашка\n",
       "9998   колобашка    колобшака\n",
       "9999   колобашка    кодобашка\n",
       "\n",
       "[10000 rows x 2 columns]"
      ]
     },
     "execution_count": 113,
     "metadata": {},
     "output_type": "execute_result"
    }
   ],
   "source": [
    "data"
   ]
  },
  {
   "cell_type": "code",
   "execution_count": 114,
   "id": "1cfe8429",
   "metadata": {},
   "outputs": [],
   "source": [
    "test = data.sample(100, replace=False)"
   ]
  },
  {
   "cell_type": "code",
   "execution_count": 121,
   "id": "1ffe765a",
   "metadata": {
    "scrolled": true
   },
   "outputs": [
    {
     "data": {
      "text/html": [
       "<div>\n",
       "<style scoped>\n",
       "    .dataframe tbody tr th:only-of-type {\n",
       "        vertical-align: middle;\n",
       "    }\n",
       "\n",
       "    .dataframe tbody tr th {\n",
       "        vertical-align: top;\n",
       "    }\n",
       "\n",
       "    .dataframe thead th {\n",
       "        text-align: right;\n",
       "    }\n",
       "</style>\n",
       "<table border=\"1\" class=\"dataframe\">\n",
       "  <thead>\n",
       "    <tr style=\"text-align: right;\">\n",
       "      <th></th>\n",
       "      <th>right</th>\n",
       "      <th>wrong</th>\n",
       "    </tr>\n",
       "  </thead>\n",
       "  <tbody>\n",
       "    <tr>\n",
       "      <th>8147</th>\n",
       "      <td>мелкоплодие</td>\n",
       "      <td>мелкоплодеи</td>\n",
       "    </tr>\n",
       "    <tr>\n",
       "      <th>5436</th>\n",
       "      <td>привнесение</td>\n",
       "      <td>привнлесение</td>\n",
       "    </tr>\n",
       "    <tr>\n",
       "      <th>8562</th>\n",
       "      <td>умирение</td>\n",
       "      <td>умиревние</td>\n",
       "    </tr>\n",
       "    <tr>\n",
       "      <th>4911</th>\n",
       "      <td>комиссарша</td>\n",
       "      <td>кыомиссарша</td>\n",
       "    </tr>\n",
       "    <tr>\n",
       "      <th>4767</th>\n",
       "      <td>нозология</td>\n",
       "      <td>нозологзя</td>\n",
       "    </tr>\n",
       "    <tr>\n",
       "      <th>...</th>\n",
       "      <td>...</td>\n",
       "      <td>...</td>\n",
       "    </tr>\n",
       "    <tr>\n",
       "      <th>4805</th>\n",
       "      <td>докалка</td>\n",
       "      <td>окалка</td>\n",
       "    </tr>\n",
       "    <tr>\n",
       "      <th>5855</th>\n",
       "      <td>автозаводцы</td>\n",
       "      <td>автозаодцы</td>\n",
       "    </tr>\n",
       "    <tr>\n",
       "      <th>4884</th>\n",
       "      <td>докалка</td>\n",
       "      <td>докака</td>\n",
       "    </tr>\n",
       "    <tr>\n",
       "      <th>6947</th>\n",
       "      <td>копепод</td>\n",
       "      <td>кочепод</td>\n",
       "    </tr>\n",
       "    <tr>\n",
       "      <th>4677</th>\n",
       "      <td>тремор</td>\n",
       "      <td>дремор</td>\n",
       "    </tr>\n",
       "  </tbody>\n",
       "</table>\n",
       "<p>100 rows × 2 columns</p>\n",
       "</div>"
      ],
      "text/plain": [
       "            right         wrong\n",
       "8147  мелкоплодие   мелкоплодеи\n",
       "5436  привнесение  привнлесение\n",
       "8562     умирение     умиревние\n",
       "4911   комиссарша   кыомиссарша\n",
       "4767    нозология     нозологзя\n",
       "...           ...           ...\n",
       "4805      докалка        окалка\n",
       "5855  автозаводцы    автозаодцы\n",
       "4884      докалка        докака\n",
       "6947      копепод       кочепод\n",
       "4677       тремор        дремор\n",
       "\n",
       "[100 rows x 2 columns]"
      ]
     },
     "execution_count": 121,
     "metadata": {},
     "output_type": "execute_result"
    }
   ],
   "source": [
    "test"
   ]
  },
  {
   "cell_type": "markdown",
   "id": "b49a6469",
   "metadata": {},
   "source": [
    "# Сделал маленький тест где можно ввести слова с ошибками из test и потом модель исрпавит их на правильные слова"
   ]
  },
  {
   "cell_type": "code",
   "execution_count": 126,
   "id": "0a4a4bdb",
   "metadata": {},
   "outputs": [
    {
     "data": {
      "application/vnd.jupyter.widget-view+json": {
       "model_id": "0c9cb1d84d944f6bb7c2fdf29ce3e027",
       "version_major": 2,
       "version_minor": 0
      },
      "text/plain": [
       "Textarea(value='', description='Текст:', layout=Layout(width='50%'), placeholder='Введите текст')"
      ]
     },
     "metadata": {},
     "output_type": "display_data"
    },
    {
     "data": {
      "application/vnd.jupyter.widget-view+json": {
       "model_id": "575afab3485c4c319fba9408edfa33a8",
       "version_major": 2,
       "version_minor": 0
      },
      "text/plain": [
       "Button(description='Пуск', style=ButtonStyle())"
      ]
     },
     "metadata": {},
     "output_type": "display_data"
    },
    {
     "data": {
      "application/vnd.jupyter.widget-view+json": {
       "model_id": "fa2edacf0cbe4e35a0c98c9ad38d4ae3",
       "version_major": 2,
       "version_minor": 0
      },
      "text/plain": [
       "Textarea(value='', description='Исправлено:', disabled=True, layout=Layout(width='50%'), placeholder='Исправле…"
      ]
     },
     "metadata": {},
     "output_type": "display_data"
    },
    {
     "name": "stdout",
     "output_type": "stream",
     "text": [
      "1/1 [==============================] - 0s 17ms/step\n"
     ]
    }
   ],
   "source": [
    "import ipywidgets as widgets\n",
    "from IPython.display import display\n",
    "\n",
    "def correct_words(b):\n",
    "    input_text = input_text_area.value.strip()\n",
    "    corrected_text = []\n",
    "    for word in input_text.split():\n",
    "        correct_word = word\n",
    "        if(correct_word not in list(test[\"right\"])):\n",
    "            correct_word = correct_text(correct_word)\n",
    "        corrected_text.append(correct_word)\n",
    "    output_text_area.value = \" \".join(corrected_text)\n",
    "\n",
    "def correct_text(input_text):\n",
    "    sequence = tokenizer.texts_to_sequences([input_text])\n",
    "    padded_sequence = pad_sequences(sequence, maxlen=max_length, padding='post')\n",
    "    predicted_sequence = model.predict(padded_sequence)\n",
    "    predicted_index = np.argmax(predicted_sequence, axis=-1)\n",
    "    predicted_word = tokenizer.index_word[predicted_index[0]]\n",
    "    return predicted_word\n",
    "\n",
    "input_text_area = widgets.Textarea(\n",
    "    value='',\n",
    "    placeholder='Введите текст',\n",
    "    description='Текст:',\n",
    "    disabled=False,\n",
    "    layout={'width': '50%'}\n",
    ")\n",
    "\n",
    "run_button = widgets.Button(description=\"Пуск\")\n",
    "run_button.on_click(correct_words)\n",
    "\n",
    "output_text_area = widgets.Textarea(\n",
    "    value='',\n",
    "    placeholder='Исправленный текст',\n",
    "    description='Исправлено:',\n",
    "    disabled=True,\n",
    "    layout={'width': '50%'}\n",
    ")\n",
    "\n",
    "display(input_text_area)\n",
    "display(run_button)\n",
    "display(output_text_area)\n"
   ]
  },
  {
   "cell_type": "markdown",
   "id": "b55f4958",
   "metadata": {},
   "source": [
    "# Такой же тест, только с использованием алгоритма Левенштейна"
   ]
  },
  {
   "cell_type": "code",
   "execution_count": 131,
   "id": "a5663bcb",
   "metadata": {},
   "outputs": [
    {
     "data": {
      "application/vnd.jupyter.widget-view+json": {
       "model_id": "088fe5cd197d45928936cb950fb50b9f",
       "version_major": 2,
       "version_minor": 0
      },
      "text/plain": [
       "Textarea(value='', description='Текст:', layout=Layout(width='50%'), placeholder='Введите текст')"
      ]
     },
     "metadata": {},
     "output_type": "display_data"
    },
    {
     "data": {
      "application/vnd.jupyter.widget-view+json": {
       "model_id": "54c4036927364e79a0333ad44787a8d4",
       "version_major": 2,
       "version_minor": 0
      },
      "text/plain": [
       "Button(description='Пуск', style=ButtonStyle())"
      ]
     },
     "metadata": {},
     "output_type": "display_data"
    },
    {
     "data": {
      "application/vnd.jupyter.widget-view+json": {
       "model_id": "94d8bb8896344d359ffce8182434a46a",
       "version_major": 2,
       "version_minor": 0
      },
      "text/plain": [
       "Textarea(value='', description='Исправлено:', disabled=True, layout=Layout(width='50%'), placeholder='Исправле…"
      ]
     },
     "metadata": {},
     "output_type": "display_data"
    }
   ],
   "source": [
    "import ipywidgets as widgets\n",
    "from IPython.display import display\n",
    "\n",
    "def correct_words(b):\n",
    "    input_text = input_text_area.value.strip()\n",
    "    corrected_text = []\n",
    "    for word in input_text.split():\n",
    "        correct_word = Levenshtein_correct(word,list(test[\"right\"]))\n",
    "        corrected_text.append(correct_word)\n",
    "    output_text_area.value = \" \".join(corrected_text)\n",
    "\n",
    "def Levenshtein_correct(word, dictionary):\n",
    "    word = word.lower()\n",
    "    min_distance = float('inf')#При начале ставим расстояние на максимум\n",
    "    corrected_word = None#Правильное слово пока что нул\n",
    "    \n",
    "    for correct_word in dictionary:#Бежим по словарю\n",
    "        distance = Levenshtein.distance(word, correct_word)\n",
    "        if distance < min_distance:#Если найденное растояние меньше уже записаннаого, то запоминаем это растояние и слово\n",
    "            min_distance = distance\n",
    "            corrected_word = correct_word\n",
    "    \n",
    "    return corrected_word#Возвращаем слово с самым маленьким растоянием\n",
    "\n",
    "input_text_area = widgets.Textarea(\n",
    "    value='',\n",
    "    placeholder='Введите текст',\n",
    "    description='Текст:',\n",
    "    disabled=False,\n",
    "    layout={'width': '50%'}\n",
    ")\n",
    "\n",
    "run_button = widgets.Button(description=\"Пуск\")\n",
    "run_button.on_click(correct_words)\n",
    "\n",
    "output_text_area = widgets.Textarea(\n",
    "    value='',\n",
    "    placeholder='Исправленный текст',\n",
    "    description='Исправлено:',\n",
    "    disabled=True,\n",
    "    layout={'width': '50%'}\n",
    ")\n",
    "\n",
    "display(input_text_area)\n",
    "display(run_button)\n",
    "display(output_text_area)\n"
   ]
  }
 ],
 "metadata": {
  "kernelspec": {
   "display_name": "Python 3 (ipykernel)",
   "language": "python",
   "name": "python3"
  },
  "language_info": {
   "codemirror_mode": {
    "name": "ipython",
    "version": 3
   },
   "file_extension": ".py",
   "mimetype": "text/x-python",
   "name": "python",
   "nbconvert_exporter": "python",
   "pygments_lexer": "ipython3",
   "version": "3.10.9"
  }
 },
 "nbformat": 4,
 "nbformat_minor": 5
}
