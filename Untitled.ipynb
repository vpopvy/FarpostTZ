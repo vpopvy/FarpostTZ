{
 "cells": [
  {
   "cell_type": "code",
   "execution_count": 23,
   "id": "f145e9b4",
   "metadata": {},
   "outputs": [
    {
     "name": "stdout",
     "output_type": "stream",
     "text": [
      "Requirement already satisfied: Levenshtein in c:\\users\\vpopv\\anaconda3\\lib\\site-packages (0.25.0)\n",
      "Requirement already satisfied: rapidfuzz<4.0.0,>=3.1.0 in c:\\users\\vpopv\\anaconda3\\lib\\site-packages (from Levenshtein) (3.7.0)\n",
      "Note: you may need to restart the kernel to use updated packages.\n"
     ]
    }
   ],
   "source": [
    "pip install Levenshtein"
   ]
  },
  {
   "cell_type": "code",
   "execution_count": 24,
   "id": "5a782290",
   "metadata": {},
   "outputs": [],
   "source": [
    "import pandas as pd\n",
    "import numpy as np\n",
    "import pandas as pd\n",
    "import tensorflow as tf\n",
    "from tensorflow.keras.preprocessing.text import Tokenizer\n",
    "from tensorflow.keras.preprocessing.sequence import pad_sequences\n",
    "from tensorflow.keras.layers import Input, Embedding, LSTM, Dense\n",
    "from tensorflow.keras.models import Model\n",
    "import Levenshtein"
   ]
  },
  {
   "cell_type": "markdown",
   "id": "a2c01e35",
   "metadata": {},
   "source": [
    "# Для обучения модели взял набор русских слов размерность 10к"
   ]
  },
  {
   "cell_type": "code",
   "execution_count": 25,
   "id": "267ac256",
   "metadata": {},
   "outputs": [],
   "source": [
    "with open(\"dict.txt\",'r',encoding=\"UTF-8\") as file:\n",
    "    lines = file.readlines()"
   ]
  },
  {
   "cell_type": "code",
   "execution_count": 26,
   "id": "b9ad1e94",
   "metadata": {},
   "outputs": [],
   "source": [
    "df = pd.DataFrame()"
   ]
  },
  {
   "cell_type": "code",
   "execution_count": 27,
   "id": "975b97f0",
   "metadata": {},
   "outputs": [],
   "source": [
    "lines = [l.strip() for l in lines]"
   ]
  },
  {
   "cell_type": "code",
   "execution_count": 28,
   "id": "5d292501",
   "metadata": {},
   "outputs": [],
   "source": [
    "df[\"right\"] = lines"
   ]
  },
  {
   "cell_type": "markdown",
   "id": "0aa577b2",
   "metadata": {},
   "source": [
    "# Функция для добавления ошибок в слова"
   ]
  },
  {
   "cell_type": "code",
   "execution_count": 29,
   "id": "8082cbd9",
   "metadata": {},
   "outputs": [],
   "source": [
    "import random\n",
    "\n",
    "def make_typo(word):\n",
    "    error_type = random.choice([\"replace\", \"omit\", \"swap\", \"add\"])\n",
    "    typo = \"\"\n",
    "    \n",
    "    if error_type == \"replace\":\n",
    "        index = random.randint(0, len(word)-1)\n",
    "        new_letter = random.choice([chr(i) for i in range(1072, 1104) if chr(i) != word[index]])\n",
    "        typo = word[:index] + new_letter + word[index+1:]\n",
    "    elif error_type == \"omit\":\n",
    "        index = random.randint(0, len(word)-2)\n",
    "        typo = word[:index] + word[index+1:]\n",
    "    elif error_type == \"swap\":\n",
    "        index = random.randint(0, len(word)-2)\n",
    "        typo = word[:index] + word[index+1] + word[index] + word[index+2:]\n",
    "    elif error_type == \"add\":\n",
    "        index = random.randint(0, len(word)-1)\n",
    "        new_letter = random.choice([chr(i) for i in range(1072, 1104)])\n",
    "        typo = word[:index] + new_letter + word[index:]\n",
    "\n",
    "    return typo\n"
   ]
  },
  {
   "cell_type": "code",
   "execution_count": 30,
   "id": "e37c5472",
   "metadata": {},
   "outputs": [],
   "source": [
    "test_df = df.sample(100, replace=False)"
   ]
  },
  {
   "cell_type": "code",
   "execution_count": 31,
   "id": "15e7459a",
   "metadata": {},
   "outputs": [
    {
     "data": {
      "text/html": [
       "<div>\n",
       "<style scoped>\n",
       "    .dataframe tbody tr th:only-of-type {\n",
       "        vertical-align: middle;\n",
       "    }\n",
       "\n",
       "    .dataframe tbody tr th {\n",
       "        vertical-align: top;\n",
       "    }\n",
       "\n",
       "    .dataframe thead th {\n",
       "        text-align: right;\n",
       "    }\n",
       "</style>\n",
       "<table border=\"1\" class=\"dataframe\">\n",
       "  <thead>\n",
       "    <tr style=\"text-align: right;\">\n",
       "      <th></th>\n",
       "      <th>right</th>\n",
       "    </tr>\n",
       "  </thead>\n",
       "  <tbody>\n",
       "    <tr>\n",
       "      <th>48163</th>\n",
       "      <td>синцы</td>\n",
       "    </tr>\n",
       "    <tr>\n",
       "      <th>23678</th>\n",
       "      <td>мазурик</td>\n",
       "    </tr>\n",
       "    <tr>\n",
       "      <th>48832</th>\n",
       "      <td>скупщица</td>\n",
       "    </tr>\n",
       "    <tr>\n",
       "      <th>38964</th>\n",
       "      <td>порочность</td>\n",
       "    </tr>\n",
       "    <tr>\n",
       "      <th>33066</th>\n",
       "      <td>офицерство</td>\n",
       "    </tr>\n",
       "    <tr>\n",
       "      <th>...</th>\n",
       "      <td>...</td>\n",
       "    </tr>\n",
       "    <tr>\n",
       "      <th>51882</th>\n",
       "      <td>супружница</td>\n",
       "    </tr>\n",
       "    <tr>\n",
       "      <th>49768</th>\n",
       "      <td>соленье</td>\n",
       "    </tr>\n",
       "    <tr>\n",
       "      <th>60246</th>\n",
       "      <td>шпулька</td>\n",
       "    </tr>\n",
       "    <tr>\n",
       "      <th>51885</th>\n",
       "      <td>супчик</td>\n",
       "    </tr>\n",
       "    <tr>\n",
       "      <th>38865</th>\n",
       "      <td>поползни</td>\n",
       "    </tr>\n",
       "  </tbody>\n",
       "</table>\n",
       "<p>100 rows × 1 columns</p>\n",
       "</div>"
      ],
      "text/plain": [
       "            right\n",
       "48163       синцы\n",
       "23678     мазурик\n",
       "48832    скупщица\n",
       "38964  порочность\n",
       "33066  офицерство\n",
       "...           ...\n",
       "51882  супружница\n",
       "49768     соленье\n",
       "60246     шпулька\n",
       "51885      супчик\n",
       "38865    поползни\n",
       "\n",
       "[100 rows x 1 columns]"
      ]
     },
     "execution_count": 31,
     "metadata": {},
     "output_type": "execute_result"
    }
   ],
   "source": [
    "test_df"
   ]
  },
  {
   "cell_type": "code",
   "execution_count": 32,
   "id": "58e303a0",
   "metadata": {},
   "outputs": [],
   "source": [
    "data = {\"right\":[],\"wrong\":[]}\n",
    "for word in test_df[\"right\"]:\n",
    "    for _ in range(100):\n",
    "        data[\"right\"].append(word)\n",
    "        data[\"wrong\"].append(make_typo(word))"
   ]
  },
  {
   "cell_type": "code",
   "execution_count": 33,
   "id": "461c4b99",
   "metadata": {},
   "outputs": [],
   "source": [
    "data = pd.DataFrame(data)"
   ]
  },
  {
   "cell_type": "markdown",
   "id": "3200a2e5",
   "metadata": {},
   "source": [
    "# Создал DF в котором у каждого слова с ошибкой есть его вариант без ошибки"
   ]
  },
  {
   "cell_type": "code",
   "execution_count": 34,
   "id": "02ffff12",
   "metadata": {
    "scrolled": true
   },
   "outputs": [
    {
     "data": {
      "text/html": [
       "<div>\n",
       "<style scoped>\n",
       "    .dataframe tbody tr th:only-of-type {\n",
       "        vertical-align: middle;\n",
       "    }\n",
       "\n",
       "    .dataframe tbody tr th {\n",
       "        vertical-align: top;\n",
       "    }\n",
       "\n",
       "    .dataframe thead th {\n",
       "        text-align: right;\n",
       "    }\n",
       "</style>\n",
       "<table border=\"1\" class=\"dataframe\">\n",
       "  <thead>\n",
       "    <tr style=\"text-align: right;\">\n",
       "      <th></th>\n",
       "      <th>right</th>\n",
       "      <th>wrong</th>\n",
       "    </tr>\n",
       "  </thead>\n",
       "  <tbody>\n",
       "    <tr>\n",
       "      <th>0</th>\n",
       "      <td>синцы</td>\n",
       "      <td>снцы</td>\n",
       "    </tr>\n",
       "    <tr>\n",
       "      <th>1</th>\n",
       "      <td>синцы</td>\n",
       "      <td>инцы</td>\n",
       "    </tr>\n",
       "    <tr>\n",
       "      <th>2</th>\n",
       "      <td>синцы</td>\n",
       "      <td>сионцы</td>\n",
       "    </tr>\n",
       "    <tr>\n",
       "      <th>3</th>\n",
       "      <td>синцы</td>\n",
       "      <td>сдинцы</td>\n",
       "    </tr>\n",
       "    <tr>\n",
       "      <th>4</th>\n",
       "      <td>синцы</td>\n",
       "      <td>сицы</td>\n",
       "    </tr>\n",
       "    <tr>\n",
       "      <th>...</th>\n",
       "      <td>...</td>\n",
       "      <td>...</td>\n",
       "    </tr>\n",
       "    <tr>\n",
       "      <th>9995</th>\n",
       "      <td>поползни</td>\n",
       "      <td>поползнй</td>\n",
       "    </tr>\n",
       "    <tr>\n",
       "      <th>9996</th>\n",
       "      <td>поползни</td>\n",
       "      <td>поползци</td>\n",
       "    </tr>\n",
       "    <tr>\n",
       "      <th>9997</th>\n",
       "      <td>поползни</td>\n",
       "      <td>поплозни</td>\n",
       "    </tr>\n",
       "    <tr>\n",
       "      <th>9998</th>\n",
       "      <td>поползни</td>\n",
       "      <td>поползнп</td>\n",
       "    </tr>\n",
       "    <tr>\n",
       "      <th>9999</th>\n",
       "      <td>поползни</td>\n",
       "      <td>понползни</td>\n",
       "    </tr>\n",
       "  </tbody>\n",
       "</table>\n",
       "<p>10000 rows × 2 columns</p>\n",
       "</div>"
      ],
      "text/plain": [
       "         right      wrong\n",
       "0        синцы       снцы\n",
       "1        синцы       инцы\n",
       "2        синцы     сионцы\n",
       "3        синцы     сдинцы\n",
       "4        синцы       сицы\n",
       "...        ...        ...\n",
       "9995  поползни   поползнй\n",
       "9996  поползни   поползци\n",
       "9997  поползни   поплозни\n",
       "9998  поползни   поползнп\n",
       "9999  поползни  понползни\n",
       "\n",
       "[10000 rows x 2 columns]"
      ]
     },
     "execution_count": 34,
     "metadata": {},
     "output_type": "execute_result"
    }
   ],
   "source": [
    "data"
   ]
  },
  {
   "cell_type": "markdown",
   "id": "e79745c3",
   "metadata": {},
   "source": [
    "# Использовал подход с ML и без\n",
    "\n",
    "# Здесь я ипользую расстояние Левенштейна, которое для неправильного слова находит правильное, из переданного списка."
   ]
  },
  {
   "cell_type": "code",
   "execution_count": 35,
   "id": "4ccd9f83",
   "metadata": {},
   "outputs": [],
   "source": [
    "def correct_word(word, dictionary):\n",
    "    word = word.lower()\n",
    "    min_distance = float('inf')#При начале ставим расстояние на максимум\n",
    "    corrected_word = None#Правильное слово пока что нул\n",
    "    \n",
    "    for correct_word in dictionary:#Бежим по словарю\n",
    "        distance = Levenshtein.distance(word, correct_word)\n",
    "        if distance < min_distance:#Если найденное растояние меньше уже записаннаого, то запоминаем это растояние и слово\n",
    "            min_distance = distance\n",
    "            corrected_word = correct_word\n",
    "    \n",
    "    return corrected_word#Возвращаем слово с самым маленьким растоянием\n"
   ]
  },
  {
   "cell_type": "code",
   "execution_count": 36,
   "id": "c5dbe016",
   "metadata": {
    "scrolled": false
   },
   "outputs": [
    {
     "data": {
      "text/html": [
       "<div>\n",
       "<style scoped>\n",
       "    .dataframe tbody tr th:only-of-type {\n",
       "        vertical-align: middle;\n",
       "    }\n",
       "\n",
       "    .dataframe tbody tr th {\n",
       "        vertical-align: top;\n",
       "    }\n",
       "\n",
       "    .dataframe thead th {\n",
       "        text-align: right;\n",
       "    }\n",
       "</style>\n",
       "<table border=\"1\" class=\"dataframe\">\n",
       "  <thead>\n",
       "    <tr style=\"text-align: right;\">\n",
       "      <th></th>\n",
       "      <th>right</th>\n",
       "      <th>wrong</th>\n",
       "    </tr>\n",
       "  </thead>\n",
       "  <tbody>\n",
       "    <tr>\n",
       "      <th>0</th>\n",
       "      <td>синцы</td>\n",
       "      <td>снцы</td>\n",
       "    </tr>\n",
       "    <tr>\n",
       "      <th>1</th>\n",
       "      <td>синцы</td>\n",
       "      <td>инцы</td>\n",
       "    </tr>\n",
       "    <tr>\n",
       "      <th>2</th>\n",
       "      <td>синцы</td>\n",
       "      <td>сионцы</td>\n",
       "    </tr>\n",
       "    <tr>\n",
       "      <th>3</th>\n",
       "      <td>синцы</td>\n",
       "      <td>сдинцы</td>\n",
       "    </tr>\n",
       "    <tr>\n",
       "      <th>4</th>\n",
       "      <td>синцы</td>\n",
       "      <td>сицы</td>\n",
       "    </tr>\n",
       "    <tr>\n",
       "      <th>...</th>\n",
       "      <td>...</td>\n",
       "      <td>...</td>\n",
       "    </tr>\n",
       "    <tr>\n",
       "      <th>9995</th>\n",
       "      <td>поползни</td>\n",
       "      <td>поползнй</td>\n",
       "    </tr>\n",
       "    <tr>\n",
       "      <th>9996</th>\n",
       "      <td>поползни</td>\n",
       "      <td>поползци</td>\n",
       "    </tr>\n",
       "    <tr>\n",
       "      <th>9997</th>\n",
       "      <td>поползни</td>\n",
       "      <td>поплозни</td>\n",
       "    </tr>\n",
       "    <tr>\n",
       "      <th>9998</th>\n",
       "      <td>поползни</td>\n",
       "      <td>поползнп</td>\n",
       "    </tr>\n",
       "    <tr>\n",
       "      <th>9999</th>\n",
       "      <td>поползни</td>\n",
       "      <td>понползни</td>\n",
       "    </tr>\n",
       "  </tbody>\n",
       "</table>\n",
       "<p>10000 rows × 2 columns</p>\n",
       "</div>"
      ],
      "text/plain": [
       "         right      wrong\n",
       "0        синцы       снцы\n",
       "1        синцы       инцы\n",
       "2        синцы     сионцы\n",
       "3        синцы     сдинцы\n",
       "4        синцы       сицы\n",
       "...        ...        ...\n",
       "9995  поползни   поползнй\n",
       "9996  поползни   поползци\n",
       "9997  поползни   поплозни\n",
       "9998  поползни   поползнп\n",
       "9999  поползни  понползни\n",
       "\n",
       "[10000 rows x 2 columns]"
      ]
     },
     "execution_count": 36,
     "metadata": {},
     "output_type": "execute_result"
    }
   ],
   "source": [
    "data"
   ]
  },
  {
   "cell_type": "markdown",
   "id": "549e4e42",
   "metadata": {},
   "source": [
    "# С использованием ML\n",
    "\n",
    "# Токенезируем каждое слово, то есть у каждого слова теперь есть числовой индекс"
   ]
  },
  {
   "cell_type": "code",
   "execution_count": 37,
   "id": "3ffa45e4",
   "metadata": {},
   "outputs": [],
   "source": [
    "all_words = list(data['right']) + list(data['wrong'])\n",
    "\n",
    "tokenizer = Tokenizer()\n",
    "tokenizer.fit_on_texts(all_words)\n",
    "\n",
    "sequences_right = tokenizer.texts_to_sequences(data['right'])\n",
    "sequences_wrong = tokenizer.texts_to_sequences(data['wrong'])"
   ]
  },
  {
   "cell_type": "code",
   "execution_count": 38,
   "id": "e2c1a177",
   "metadata": {},
   "outputs": [],
   "source": [
    "max_length = max(len(sequence) for sequence in sequences_right)"
   ]
  },
  {
   "cell_type": "code",
   "execution_count": 39,
   "id": "58f5ed1a",
   "metadata": {},
   "outputs": [],
   "source": [
    "vocab_size = len(tokenizer.word_index) + 1 #Кол-во слов в словаре\n",
    "embedding_dim = 50 #Длинна вектора для каждого слова\n",
    "lstm_units = 128 # Кол-во нейронов в LSTM\n",
    "\n",
    "input_layer = Input(shape=(max_length,)) #Входной слой нейронки\n",
    "\n",
    "\n",
    "embedding_layer = Embedding(vocab_size, embedding_dim, input_length=max_length)(input_layer) # Каждое слово переводим в вектор\n",
    "\n",
    "\n",
    "lstm_layer = LSTM(lstm_units)(embedding_layer)\n",
    "\n",
    "\n",
    "output_layer = Dense(vocab_size, activation='softmax')(lstm_layer) # Выходной слой"
   ]
  },
  {
   "cell_type": "code",
   "execution_count": 40,
   "id": "403b60ec",
   "metadata": {
    "scrolled": true
   },
   "outputs": [
    {
     "name": "stdout",
     "output_type": "stream",
     "text": [
      "Epoch 1/10\n",
      "313/313 [==============================] - 6s 14ms/step - loss: 6.4943 - accuracy: 0.0083\n",
      "Epoch 2/10\n",
      "313/313 [==============================] - 5s 14ms/step - loss: 4.6330 - accuracy: 0.0086\n",
      "Epoch 3/10\n",
      "313/313 [==============================] - 4s 14ms/step - loss: 4.6146 - accuracy: 0.0101\n",
      "Epoch 4/10\n",
      "313/313 [==============================] - 5s 15ms/step - loss: 4.5713 - accuracy: 0.0107\n",
      "Epoch 5/10\n",
      "313/313 [==============================] - 6s 18ms/step - loss: 4.3289 - accuracy: 0.0253\n",
      "Epoch 6/10\n",
      "313/313 [==============================] - 5s 16ms/step - loss: 3.5705 - accuracy: 0.1696\n",
      "Epoch 7/10\n",
      "313/313 [==============================] - 4s 14ms/step - loss: 2.2402 - accuracy: 0.5831\n",
      "Epoch 8/10\n",
      "313/313 [==============================] - 5s 15ms/step - loss: 0.9086 - accuracy: 0.9366\n",
      "Epoch 9/10\n",
      "313/313 [==============================] - 5s 14ms/step - loss: 0.2524 - accuracy: 0.9996\n",
      "Epoch 10/10\n",
      "313/313 [==============================] - 4s 14ms/step - loss: 0.0775 - accuracy: 1.0000\n"
     ]
    },
    {
     "data": {
      "text/plain": [
       "<keras.src.callbacks.History at 0x1853f340050>"
      ]
     },
     "execution_count": 40,
     "metadata": {},
     "output_type": "execute_result"
    }
   ],
   "source": [
    "\n",
    "\n",
    "\n",
    "model = Model(inputs=input_layer, outputs=output_layer)\n",
    "model.compile(optimizer='adam', loss='sparse_categorical_crossentropy', metrics=['accuracy'])\n",
    "\n",
    "\n",
    "model.fit(sequences_wrong, sequences_right, epochs=10, batch_size=32, validation_split=0)\n"
   ]
  },
  {
   "cell_type": "markdown",
   "id": "c371d7a5",
   "metadata": {},
   "source": [
    "# На вход функции подается слово, его переводит в токен и модель предсказывает как его исправить"
   ]
  },
  {
   "cell_type": "code",
   "execution_count": 41,
   "id": "7b7c3b54",
   "metadata": {},
   "outputs": [],
   "source": [
    "def correct_spelling(wrong_word):\n",
    "    sequence = tokenizer.texts_to_sequences([wrong_word])\n",
    "    padded_sequence = pad_sequences(sequence, maxlen=max_length, padding='post')\n",
    "    predicted_sequence = model.predict(padded_sequence)\n",
    "    predicted_index = np.argmax(predicted_sequence, axis=-1)\n",
    "    predicted_word = tokenizer.index_word[predicted_index[0]]\n",
    "    return predicted_word\n"
   ]
  },
  {
   "cell_type": "code",
   "execution_count": 42,
   "id": "ca0b1e6b",
   "metadata": {
    "scrolled": true
   },
   "outputs": [
    {
     "data": {
      "text/html": [
       "<div>\n",
       "<style scoped>\n",
       "    .dataframe tbody tr th:only-of-type {\n",
       "        vertical-align: middle;\n",
       "    }\n",
       "\n",
       "    .dataframe tbody tr th {\n",
       "        vertical-align: top;\n",
       "    }\n",
       "\n",
       "    .dataframe thead th {\n",
       "        text-align: right;\n",
       "    }\n",
       "</style>\n",
       "<table border=\"1\" class=\"dataframe\">\n",
       "  <thead>\n",
       "    <tr style=\"text-align: right;\">\n",
       "      <th></th>\n",
       "      <th>right</th>\n",
       "      <th>wrong</th>\n",
       "    </tr>\n",
       "  </thead>\n",
       "  <tbody>\n",
       "    <tr>\n",
       "      <th>0</th>\n",
       "      <td>синцы</td>\n",
       "      <td>снцы</td>\n",
       "    </tr>\n",
       "    <tr>\n",
       "      <th>1</th>\n",
       "      <td>синцы</td>\n",
       "      <td>инцы</td>\n",
       "    </tr>\n",
       "    <tr>\n",
       "      <th>2</th>\n",
       "      <td>синцы</td>\n",
       "      <td>сионцы</td>\n",
       "    </tr>\n",
       "    <tr>\n",
       "      <th>3</th>\n",
       "      <td>синцы</td>\n",
       "      <td>сдинцы</td>\n",
       "    </tr>\n",
       "    <tr>\n",
       "      <th>4</th>\n",
       "      <td>синцы</td>\n",
       "      <td>сицы</td>\n",
       "    </tr>\n",
       "    <tr>\n",
       "      <th>...</th>\n",
       "      <td>...</td>\n",
       "      <td>...</td>\n",
       "    </tr>\n",
       "    <tr>\n",
       "      <th>9995</th>\n",
       "      <td>поползни</td>\n",
       "      <td>поползнй</td>\n",
       "    </tr>\n",
       "    <tr>\n",
       "      <th>9996</th>\n",
       "      <td>поползни</td>\n",
       "      <td>поползци</td>\n",
       "    </tr>\n",
       "    <tr>\n",
       "      <th>9997</th>\n",
       "      <td>поползни</td>\n",
       "      <td>поплозни</td>\n",
       "    </tr>\n",
       "    <tr>\n",
       "      <th>9998</th>\n",
       "      <td>поползни</td>\n",
       "      <td>поползнп</td>\n",
       "    </tr>\n",
       "    <tr>\n",
       "      <th>9999</th>\n",
       "      <td>поползни</td>\n",
       "      <td>понползни</td>\n",
       "    </tr>\n",
       "  </tbody>\n",
       "</table>\n",
       "<p>10000 rows × 2 columns</p>\n",
       "</div>"
      ],
      "text/plain": [
       "         right      wrong\n",
       "0        синцы       снцы\n",
       "1        синцы       инцы\n",
       "2        синцы     сионцы\n",
       "3        синцы     сдинцы\n",
       "4        синцы       сицы\n",
       "...        ...        ...\n",
       "9995  поползни   поползнй\n",
       "9996  поползни   поползци\n",
       "9997  поползни   поплозни\n",
       "9998  поползни   поползнп\n",
       "9999  поползни  понползни\n",
       "\n",
       "[10000 rows x 2 columns]"
      ]
     },
     "execution_count": 42,
     "metadata": {},
     "output_type": "execute_result"
    }
   ],
   "source": [
    "data"
   ]
  },
  {
   "cell_type": "code",
   "execution_count": 43,
   "id": "1cfe8429",
   "metadata": {},
   "outputs": [],
   "source": [
    "test = data.sample(100, replace=False)"
   ]
  },
  {
   "cell_type": "code",
   "execution_count": 44,
   "id": "1ffe765a",
   "metadata": {
    "scrolled": true
   },
   "outputs": [
    {
     "data": {
      "text/html": [
       "<div>\n",
       "<style scoped>\n",
       "    .dataframe tbody tr th:only-of-type {\n",
       "        vertical-align: middle;\n",
       "    }\n",
       "\n",
       "    .dataframe tbody tr th {\n",
       "        vertical-align: top;\n",
       "    }\n",
       "\n",
       "    .dataframe thead th {\n",
       "        text-align: right;\n",
       "    }\n",
       "</style>\n",
       "<table border=\"1\" class=\"dataframe\">\n",
       "  <thead>\n",
       "    <tr style=\"text-align: right;\">\n",
       "      <th></th>\n",
       "      <th>right</th>\n",
       "      <th>wrong</th>\n",
       "    </tr>\n",
       "  </thead>\n",
       "  <tbody>\n",
       "    <tr>\n",
       "      <th>8279</th>\n",
       "      <td>санаторник</td>\n",
       "      <td>санаторинк</td>\n",
       "    </tr>\n",
       "    <tr>\n",
       "      <th>2310</th>\n",
       "      <td>гуманизация</td>\n",
       "      <td>гуманизациы</td>\n",
       "    </tr>\n",
       "    <tr>\n",
       "      <th>2246</th>\n",
       "      <td>романистка</td>\n",
       "      <td>ржоманистка</td>\n",
       "    </tr>\n",
       "    <tr>\n",
       "      <th>866</th>\n",
       "      <td>возмутительность</td>\n",
       "      <td>возмутительносхть</td>\n",
       "    </tr>\n",
       "    <tr>\n",
       "      <th>108</th>\n",
       "      <td>мазурик</td>\n",
       "      <td>мазурки</td>\n",
       "    </tr>\n",
       "    <tr>\n",
       "      <th>...</th>\n",
       "      <td>...</td>\n",
       "      <td>...</td>\n",
       "    </tr>\n",
       "    <tr>\n",
       "      <th>7681</th>\n",
       "      <td>аппрет</td>\n",
       "      <td>фаппрет</td>\n",
       "    </tr>\n",
       "    <tr>\n",
       "      <th>3142</th>\n",
       "      <td>сутра</td>\n",
       "      <td>устра</td>\n",
       "    </tr>\n",
       "    <tr>\n",
       "      <th>783</th>\n",
       "      <td>нанай</td>\n",
       "      <td>гнанай</td>\n",
       "    </tr>\n",
       "    <tr>\n",
       "      <th>1081</th>\n",
       "      <td>саженка</td>\n",
       "      <td>сажезнка</td>\n",
       "    </tr>\n",
       "    <tr>\n",
       "      <th>2205</th>\n",
       "      <td>романистка</td>\n",
       "      <td>рохманистка</td>\n",
       "    </tr>\n",
       "  </tbody>\n",
       "</table>\n",
       "<p>100 rows × 2 columns</p>\n",
       "</div>"
      ],
      "text/plain": [
       "                 right              wrong\n",
       "8279        санаторник         санаторинк\n",
       "2310       гуманизация        гуманизациы\n",
       "2246        романистка        ржоманистка\n",
       "866   возмутительность  возмутительносхть\n",
       "108            мазурик            мазурки\n",
       "...                ...                ...\n",
       "7681            аппрет            фаппрет\n",
       "3142             сутра              устра\n",
       "783              нанай             гнанай\n",
       "1081           саженка           сажезнка\n",
       "2205        романистка        рохманистка\n",
       "\n",
       "[100 rows x 2 columns]"
      ]
     },
     "execution_count": 44,
     "metadata": {},
     "output_type": "execute_result"
    }
   ],
   "source": [
    "test"
   ]
  },
  {
   "cell_type": "markdown",
   "id": "b49a6469",
   "metadata": {},
   "source": [
    "# Сделал маленький тест где можно ввести слова с ошибками из test и потом модель исрпавит их на правильные слова"
   ]
  },
  {
   "cell_type": "code",
   "execution_count": 45,
   "id": "0a4a4bdb",
   "metadata": {},
   "outputs": [
    {
     "data": {
      "application/vnd.jupyter.widget-view+json": {
       "model_id": "cf9e88fc16984a8bae485be0cf45d892",
       "version_major": 2,
       "version_minor": 0
      },
      "text/plain": [
       "Textarea(value='', description='Текст:', layout=Layout(width='50%'), placeholder='Введите текст')"
      ]
     },
     "metadata": {},
     "output_type": "display_data"
    },
    {
     "data": {
      "application/vnd.jupyter.widget-view+json": {
       "model_id": "3b6da74cca5d4029a068f9395b437d92",
       "version_major": 2,
       "version_minor": 0
      },
      "text/plain": [
       "Button(description='Пуск', style=ButtonStyle())"
      ]
     },
     "metadata": {},
     "output_type": "display_data"
    },
    {
     "data": {
      "application/vnd.jupyter.widget-view+json": {
       "model_id": "9250db5e39ad41859f256d596f99642e",
       "version_major": 2,
       "version_minor": 0
      },
      "text/plain": [
       "Textarea(value='', description='Исправлено:', disabled=True, layout=Layout(width='50%'), placeholder='Исправле…"
      ]
     },
     "metadata": {},
     "output_type": "display_data"
    }
   ],
   "source": [
    "import ipywidgets as widgets\n",
    "from IPython.display import display\n",
    "\n",
    "def correct_words(b):\n",
    "    input_text = input_text_area.value.strip()\n",
    "    corrected_text = []\n",
    "    for word in input_text.split():\n",
    "        correct_word = word\n",
    "        if(correct_word not in list(test[\"right\"])):\n",
    "            correct_word = correct_text(correct_word)\n",
    "        corrected_text.append(correct_word)\n",
    "    output_text_area.value = \" \".join(corrected_text)\n",
    "\n",
    "def correct_text(input_text):\n",
    "    sequence = tokenizer.texts_to_sequences([input_text])\n",
    "    padded_sequence = pad_sequences(sequence, maxlen=max_length, padding='post')\n",
    "    predicted_sequence = model.predict(padded_sequence)\n",
    "    predicted_index = np.argmax(predicted_sequence, axis=-1)\n",
    "    predicted_word = tokenizer.index_word[predicted_index[0]]\n",
    "    return predicted_word\n",
    "\n",
    "input_text_area = widgets.Textarea(\n",
    "    value='',\n",
    "    placeholder='Введите текст',\n",
    "    description='Текст:',\n",
    "    disabled=False,\n",
    "    layout={'width': '50%'}\n",
    ")\n",
    "\n",
    "run_button = widgets.Button(description=\"Пуск\")\n",
    "run_button.on_click(correct_words)\n",
    "\n",
    "output_text_area = widgets.Textarea(\n",
    "    value='',\n",
    "    placeholder='Исправленный текст',\n",
    "    description='Исправлено:',\n",
    "    disabled=True,\n",
    "    layout={'width': '50%'}\n",
    ")\n",
    "\n",
    "display(input_text_area)\n",
    "display(run_button)\n",
    "display(output_text_area)\n"
   ]
  },
  {
   "cell_type": "markdown",
   "id": "b55f4958",
   "metadata": {},
   "source": [
    "# Такой же тест, только с использованием алгоритма Левенштейна"
   ]
  },
  {
   "cell_type": "code",
   "execution_count": 46,
   "id": "a5663bcb",
   "metadata": {},
   "outputs": [
    {
     "data": {
      "application/vnd.jupyter.widget-view+json": {
       "model_id": "5c7db9cd8a0441079c5370c77e7ded65",
       "version_major": 2,
       "version_minor": 0
      },
      "text/plain": [
       "Textarea(value='', description='Текст:', layout=Layout(width='50%'), placeholder='Введите текст')"
      ]
     },
     "metadata": {},
     "output_type": "display_data"
    },
    {
     "data": {
      "application/vnd.jupyter.widget-view+json": {
       "model_id": "29874f6cf4d74f2c8b0868eff8615823",
       "version_major": 2,
       "version_minor": 0
      },
      "text/plain": [
       "Button(description='Пуск', style=ButtonStyle())"
      ]
     },
     "metadata": {},
     "output_type": "display_data"
    },
    {
     "data": {
      "application/vnd.jupyter.widget-view+json": {
       "model_id": "ebed9b9380c74c0aa3b1dc81c682b003",
       "version_major": 2,
       "version_minor": 0
      },
      "text/plain": [
       "Textarea(value='', description='Исправлено:', disabled=True, layout=Layout(width='50%'), placeholder='Исправле…"
      ]
     },
     "metadata": {},
     "output_type": "display_data"
    }
   ],
   "source": [
    "import ipywidgets as widgets\n",
    "from IPython.display import display\n",
    "\n",
    "def correct_words(b):\n",
    "    input_text = input_text_area.value.strip()\n",
    "    corrected_text = []\n",
    "    for word in input_text.split():\n",
    "        correct_word = Levenshtein_correct(word,list(test[\"right\"]))\n",
    "        corrected_text.append(correct_word)\n",
    "    output_text_area.value = \" \".join(corrected_text)\n",
    "\n",
    "def Levenshtein_correct(word, dictionary):\n",
    "    word = word.lower()\n",
    "    min_distance = float('inf')#При начале ставим расстояние на максимум\n",
    "    corrected_word = None#Правильное слово пока что нул\n",
    "    \n",
    "    for correct_word in dictionary:#Бежим по словарю\n",
    "        distance = Levenshtein.distance(word, correct_word)\n",
    "        if distance < min_distance:#Если найденное растояние меньше уже записаннаого, то запоминаем это растояние и слово\n",
    "            min_distance = distance\n",
    "            corrected_word = correct_word\n",
    "    \n",
    "    return corrected_word#Возвращаем слово с самым маленьким растоянием\n",
    "\n",
    "input_text_area = widgets.Textarea(\n",
    "    value='',\n",
    "    placeholder='Введите текст',\n",
    "    description='Текст:',\n",
    "    disabled=False,\n",
    "    layout={'width': '50%'}\n",
    ")\n",
    "\n",
    "run_button = widgets.Button(description=\"Пуск\")\n",
    "run_button.on_click(correct_words)\n",
    "\n",
    "output_text_area = widgets.Textarea(\n",
    "    value='',\n",
    "    placeholder='Исправленный текст',\n",
    "    description='Исправлено:',\n",
    "    disabled=True,\n",
    "    layout={'width': '50%'}\n",
    ")\n",
    "\n",
    "display(input_text_area)\n",
    "display(run_button)\n",
    "display(output_text_area)\n"
   ]
  }
 ],
 "metadata": {
  "kernelspec": {
   "display_name": "Python 3 (ipykernel)",
   "language": "python",
   "name": "python3"
  },
  "language_info": {
   "codemirror_mode": {
    "name": "ipython",
    "version": 3
   },
   "file_extension": ".py",
   "mimetype": "text/x-python",
   "name": "python",
   "nbconvert_exporter": "python",
   "pygments_lexer": "ipython3",
   "version": "3.11.7"
  }
 },
 "nbformat": 4,
 "nbformat_minor": 5
}
